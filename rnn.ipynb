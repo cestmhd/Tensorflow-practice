{
  "nbformat": 4,
  "nbformat_minor": 0,
  "metadata": {
    "colab": {
      "provenance": [],
      "authorship_tag": "ABX9TyMTlYQoPMJDRhb1PKNc/GWp"
    },
    "kernelspec": {
      "name": "python3",
      "display_name": "Python 3"
    },
    "language_info": {
      "name": "python"
    },
    "accelerator": "GPU",
    "gpuClass": "standard"
  },
  "cells": [
    {
      "cell_type": "code",
      "execution_count": 1,
      "metadata": {
        "id": "02IKyQn_zv6G"
      },
      "outputs": [],
      "source": [
        "import tensorflow as tf\n",
        "import matplotlib.pyplot as plt\n",
        "import numpy as np\n",
        "\n",
        "keras = tf.keras"
      ]
    },
    {
      "cell_type": "code",
      "source": [
        "def plot_series(time, series, format='-', start = 0, end= None, label = None):\n",
        "    plt.plot(time[start:end], series[start:end], format = format, label = label)\n",
        "    plt.xlabel('Time')\n",
        "    plt.ylabel('Value')\n",
        "    if label:\n",
        "        plt.legend(fontsize = 14)\n",
        "    plt.grid(True)\n",
        "\n",
        "def trend(time, slope=0):\n",
        "    return time*slope\n",
        "\n",
        "def seasonal_pattern(season_time):\n",
        "    return np.where(season_time<0.4, \n",
        "                    np.cos(season_time*2*np.pi),\n",
        "                    1/np.exp(3*season_time))\n",
        "\n",
        "def seasonality(time, period, amplitude = 1, phase=0):\n",
        "    season_time = ((time+phase)%period)/period\n",
        "    return amplitude * seasonal_pattern(season_time)\n",
        "\n",
        "def white_noise(time, noise_level=1, seed=None):\n",
        "    rnd = np.random.RandomState(seed)\n",
        "    return rnd.randn(len(time)) * noise_level\n",
        "\n"
      ],
      "metadata": {
        "id": "G-Wp2tmW0Icm"
      },
      "execution_count": 5,
      "outputs": []
    },
    {
      "cell_type": "code",
      "source": [
        "def window_dataset(series, window_size, batch_size = 32, shuffle_buffer = 1000):\n",
        "    dataset = tf.data.Dataset.from_tensor_slices(series)\n",
        "    dataset = dataset.window(window_size+1, shift = 1, drop_remainder = True)\n",
        "    dataset = dataset.flat_map(lambda window: window.batch(window_size+1))\n",
        "    dataset = dataset.map(lambda window: (window[:-1], window[-1]))\n",
        "    dataset = dataset.batch(batch_size).prefetch(1)\n",
        "    return dataset\n",
        "\n",
        "def model_forecast(model, series, window_size):\n",
        "    ds = tf.data.Dataset.from_tensor_slices(series)\n",
        "    ds = ds.window(window_size, shift =1, drop_remainder=True)\n",
        "    ds = ds.flat_map(lambda w: w.batch(window_size))\n",
        "    ds = ds.batch(32).prefetch(1)\n",
        "    forecast = model.predict(ds)\n",
        "    return forecast"
      ],
      "metadata": {
        "id": "HMBcKkKZcK1e"
      },
      "execution_count": null,
      "outputs": []
    },
    {
      "cell_type": "code",
      "source": [
        "time = np.arange(4 * 365 + 1)\n",
        "\n",
        "slope = 0.05\n",
        "baseline = 10\n",
        "amplitude = 40\n",
        "series = baseline + trend(time, slope) + seasonality(time, period=365, amplitude=amplitude)\n",
        "\n",
        "noise_level = 5\n",
        "noise = white_noise(time, noise_level, seed=42)\n",
        "\n",
        "series += noise\n",
        "\n"
      ],
      "metadata": {
        "id": "0G-kWaah4Yg-"
      },
      "execution_count": 3,
      "outputs": []
    },
    {
      "cell_type": "code",
      "source": [
        "split_time = 1000\n",
        "time_train = time[:split_time]\n",
        "x_train = series[:split_time]\n",
        "time_valid = time[split_time:]\n",
        "x_valid = series[split_time:]"
      ],
      "metadata": {
        "id": "waEfNTWe4dpu"
      },
      "execution_count": 4,
      "outputs": []
    },
    {
      "cell_type": "code",
      "source": [
        "def sequential_window_dataset(series, window_size):\n",
        "    series = tf.expand_dims(series, axis=-1)\n",
        "    ds = tf.data.Dataset.from_tensor_slices(series)\n",
        "    ds = ds.window(window_size + 1, shift=window_size, drop_remainder=True)\n",
        "    ds = ds.flat_map(lambda window: window.batch(window_size + 1))\n",
        "    ds = ds.map(lambda window: (window[:-1], window[1:]))\n",
        "    return ds.batch(1).prefetch(1)"
      ],
      "metadata": {
        "id": "7pkR0ph_cNSN"
      },
      "execution_count": 6,
      "outputs": []
    },
    {
      "cell_type": "code",
      "source": [
        "for X_batch, y_batch in sequential_window_dataset(tf.range(10), 3):\n",
        "    print(X_batch.numpy(), y_batch.numpy())"
      ],
      "metadata": {
        "colab": {
          "base_uri": "https://localhost:8080/"
        },
        "id": "etQ4xrSOcrFc",
        "outputId": "cdab0872-19fa-4b1b-e2e5-97cae9517a5d"
      },
      "execution_count": 7,
      "outputs": [
        {
          "output_type": "stream",
          "name": "stderr",
          "text": [
            "WARNING:tensorflow:From /usr/local/lib/python3.8/dist-packages/tensorflow/python/autograph/pyct/static_analysis/liveness.py:83: Analyzer.lamba_check (from tensorflow.python.autograph.pyct.static_analysis.liveness) is deprecated and will be removed after 2023-09-23.\n",
            "Instructions for updating:\n",
            "Lambda fuctions will be no more assumed to be used in the statement where they are used, or at least in the same block. https://github.com/tensorflow/tensorflow/issues/56089\n"
          ]
        },
        {
          "output_type": "stream",
          "name": "stdout",
          "text": [
            "[[[0]\n",
            "  [1]\n",
            "  [2]]] [[[1]\n",
            "  [2]\n",
            "  [3]]]\n",
            "[[[3]\n",
            "  [4]\n",
            "  [5]]] [[[4]\n",
            "  [5]\n",
            "  [6]]]\n",
            "[[[6]\n",
            "  [7]\n",
            "  [8]]] [[[7]\n",
            "  [8]\n",
            "  [9]]]\n"
          ]
        }
      ]
    },
    {
      "cell_type": "code",
      "source": [
        "class ResetStatesCallback(keras.callbacks.Callback):\n",
        "    def on_epoch_begin(self, epoch, logs):\n",
        "        self.model.reset_states()"
      ],
      "metadata": {
        "id": "fPsO4LJCc1Bs"
      },
      "execution_count": 8,
      "outputs": []
    },
    {
      "cell_type": "code",
      "source": [
        "# simple rnn"
      ],
      "metadata": {
        "id": "V_-bXjJJ4maz"
      },
      "execution_count": null,
      "outputs": []
    },
    {
      "cell_type": "code",
      "source": [
        "keras.backend.clear_session()\n",
        "tf.random.set_seed(42)\n",
        "np.random.seed(42)\n",
        "\n",
        "window_size = 30\n",
        "train_set = window_dataset(x_train, window_size, batch_size = 128)\n",
        "\n",
        "model = keras.Sequential([\n",
        "    keras.layers.Lambda(lambda x: tf.expand_dims(x, axis=-1),\n",
        "                      input_shape=[None]),\n",
        "    keras.layers.SimpleRNN(100, return_sequences = True),\n",
        "    keras.layers.SimpleRNN(100),\n",
        "    keras.layers.Dense(1),\n",
        "    keras.layers.Lambda(lambda x: x*200)\n",
        "])\n",
        "\n",
        "lr_schedule = keras.callbacks.LearningRateScheduler(lambda epoch: 1e-7 * 10**(epoch / 20))\n",
        "optimiser = keras.optimizers.SGD(lr=1e-7, momentum=0.9)\n",
        "model.compile(loss = keras.losses.Huber(),\n",
        "              optimizer = optimiser,\n",
        "              metrics=['mae'])\n",
        "\n",
        "history = model.fit(train_set, epochs =100, callbacks=[lr_schedule])"
      ],
      "metadata": {
        "id": "W0XeEOL-4oin"
      },
      "execution_count": null,
      "outputs": []
    },
    {
      "cell_type": "code",
      "source": [
        "keras.backend.clear_session()\n",
        "tf.random.set_seed(42)\n",
        "np.random.seed(42)\n",
        "\n",
        "window_size = 30\n",
        "train_set = sequential_window_dataset(x_train, window_size)\n",
        "\n",
        "model = keras.models.Sequential([\n",
        "  keras.layers.SimpleRNN(100, return_sequences=True, stateful=True,\n",
        "                         batch_input_shape=[1, None, 1]),\n",
        "  keras.layers.SimpleRNN(100, return_sequences=True, stateful=True),\n",
        "  keras.layers.Dense(1),\n",
        "  keras.layers.Lambda(lambda x: x * 200.0)\n",
        "])\n",
        "lr_schedule = keras.callbacks.LearningRateScheduler(\n",
        "    lambda epoch: 1e-8 * 10**(epoch / 30))\n",
        "reset_states = ResetStatesCallback()\n",
        "optimizer = keras.optimizers.SGD(lr=1e-8, momentum=0.9)\n",
        "model.compile(loss=keras.losses.Huber(),\n",
        "              optimizer=optimizer,\n",
        "              metrics=[\"mae\"])\n",
        "history = model.fit(train_set, epochs=100,\n",
        "                    callbacks=[lr_schedule, reset_states])"
      ],
      "metadata": {
        "colab": {
          "base_uri": "https://localhost:8080/"
        },
        "id": "rvsB-kXYdY2a",
        "outputId": "e2879ee9-036c-4fae-e5a9-4ae95b2da902"
      },
      "execution_count": 9,
      "outputs": [
        {
          "output_type": "stream",
          "name": "stderr",
          "text": [
            "WARNING:absl:`lr` is deprecated, please use `learning_rate` instead, or use the legacy optimizer, e.g.,tf.keras.optimizers.legacy.SGD.\n"
          ]
        },
        {
          "output_type": "stream",
          "name": "stdout",
          "text": [
            "Epoch 1/100\n",
            "33/33 [==============================] - 6s 43ms/step - loss: 101.9747 - mae: 102.4745 - lr: 1.0000e-08\n",
            "Epoch 2/100\n",
            "33/33 [==============================] - 1s 36ms/step - loss: 71.4677 - mae: 71.9677 - lr: 1.0798e-08\n",
            "Epoch 3/100\n",
            "33/33 [==============================] - 1s 35ms/step - loss: 36.9848 - mae: 37.4843 - lr: 1.1659e-08\n",
            "Epoch 4/100\n",
            "33/33 [==============================] - 1s 34ms/step - loss: 18.5895 - mae: 19.0806 - lr: 1.2589e-08\n",
            "Epoch 5/100\n",
            "33/33 [==============================] - 1s 36ms/step - loss: 16.9809 - mae: 17.4746 - lr: 1.3594e-08\n",
            "Epoch 6/100\n",
            "33/33 [==============================] - 1s 35ms/step - loss: 16.6061 - mae: 17.0985 - lr: 1.4678e-08\n",
            "Epoch 7/100\n",
            "33/33 [==============================] - 1s 39ms/step - loss: 16.1527 - mae: 16.6450 - lr: 1.5849e-08\n",
            "Epoch 8/100\n",
            "33/33 [==============================] - 1s 36ms/step - loss: 15.7313 - mae: 16.2236 - lr: 1.7113e-08\n",
            "Epoch 9/100\n",
            "33/33 [==============================] - 1s 35ms/step - loss: 15.3034 - mae: 15.7960 - lr: 1.8478e-08\n",
            "Epoch 10/100\n",
            "33/33 [==============================] - 1s 36ms/step - loss: 14.9076 - mae: 15.4014 - lr: 1.9953e-08\n",
            "Epoch 11/100\n",
            "33/33 [==============================] - 1s 35ms/step - loss: 14.5604 - mae: 15.0529 - lr: 2.1544e-08\n",
            "Epoch 12/100\n",
            "33/33 [==============================] - 1s 35ms/step - loss: 14.2441 - mae: 14.7360 - lr: 2.3263e-08\n",
            "Epoch 13/100\n",
            "33/33 [==============================] - 1s 35ms/step - loss: 13.9682 - mae: 14.4610 - lr: 2.5119e-08\n",
            "Epoch 14/100\n",
            "33/33 [==============================] - 1s 34ms/step - loss: 13.6910 - mae: 14.1826 - lr: 2.7123e-08\n",
            "Epoch 15/100\n",
            "33/33 [==============================] - 1s 35ms/step - loss: 13.4353 - mae: 13.9267 - lr: 2.9286e-08\n",
            "Epoch 16/100\n",
            "33/33 [==============================] - 2s 63ms/step - loss: 13.1902 - mae: 13.6799 - lr: 3.1623e-08\n",
            "Epoch 17/100\n",
            "33/33 [==============================] - 1s 35ms/step - loss: 12.9523 - mae: 13.4437 - lr: 3.4145e-08\n",
            "Epoch 18/100\n",
            "33/33 [==============================] - 1s 36ms/step - loss: 12.7086 - mae: 13.1994 - lr: 3.6869e-08\n",
            "Epoch 19/100\n",
            "33/33 [==============================] - 1s 35ms/step - loss: 12.4822 - mae: 12.9737 - lr: 3.9811e-08\n",
            "Epoch 20/100\n",
            "33/33 [==============================] - 1s 35ms/step - loss: 12.2538 - mae: 12.7439 - lr: 4.2987e-08\n",
            "Epoch 21/100\n",
            "33/33 [==============================] - 1s 34ms/step - loss: 12.0319 - mae: 12.5223 - lr: 4.6416e-08\n",
            "Epoch 22/100\n",
            "33/33 [==============================] - 1s 35ms/step - loss: 11.8158 - mae: 12.3043 - lr: 5.0119e-08\n",
            "Epoch 23/100\n",
            "33/33 [==============================] - 1s 34ms/step - loss: 11.5934 - mae: 12.0849 - lr: 5.4117e-08\n",
            "Epoch 24/100\n",
            "33/33 [==============================] - 1s 34ms/step - loss: 11.3475 - mae: 11.8350 - lr: 5.8434e-08\n",
            "Epoch 25/100\n",
            "33/33 [==============================] - 2s 57ms/step - loss: 11.1139 - mae: 11.6016 - lr: 6.3096e-08\n",
            "Epoch 26/100\n",
            "33/33 [==============================] - 1s 34ms/step - loss: 10.9412 - mae: 11.4299 - lr: 6.8129e-08\n",
            "Epoch 27/100\n",
            "33/33 [==============================] - 1s 35ms/step - loss: 10.7406 - mae: 11.2301 - lr: 7.3564e-08\n",
            "Epoch 28/100\n",
            "33/33 [==============================] - 1s 35ms/step - loss: 10.5045 - mae: 10.9890 - lr: 7.9433e-08\n",
            "Epoch 29/100\n",
            "33/33 [==============================] - 1s 34ms/step - loss: 10.2722 - mae: 10.7589 - lr: 8.5770e-08\n",
            "Epoch 30/100\n",
            "33/33 [==============================] - 1s 35ms/step - loss: 10.0167 - mae: 10.5000 - lr: 9.2612e-08\n",
            "Epoch 31/100\n",
            "33/33 [==============================] - 1s 34ms/step - loss: 9.7385 - mae: 10.2241 - lr: 1.0000e-07\n",
            "Epoch 32/100\n",
            "33/33 [==============================] - 1s 34ms/step - loss: 9.5943 - mae: 10.0799 - lr: 1.0798e-07\n",
            "Epoch 33/100\n",
            "33/33 [==============================] - 1s 34ms/step - loss: 9.4137 - mae: 9.8980 - lr: 1.1659e-07\n",
            "Epoch 34/100\n",
            "33/33 [==============================] - 2s 64ms/step - loss: 9.3410 - mae: 9.8290 - lr: 1.2589e-07\n",
            "Epoch 35/100\n",
            "33/33 [==============================] - 1s 35ms/step - loss: 9.2579 - mae: 9.7450 - lr: 1.3594e-07\n",
            "Epoch 36/100\n",
            "33/33 [==============================] - 1s 34ms/step - loss: 9.2380 - mae: 9.7251 - lr: 1.4678e-07\n",
            "Epoch 37/100\n",
            "33/33 [==============================] - 1s 35ms/step - loss: 9.2791 - mae: 9.7689 - lr: 1.5849e-07\n",
            "Epoch 38/100\n",
            "33/33 [==============================] - 1s 34ms/step - loss: 9.3210 - mae: 9.8098 - lr: 1.7113e-07\n",
            "Epoch 39/100\n",
            "33/33 [==============================] - 1s 34ms/step - loss: 9.4113 - mae: 9.9008 - lr: 1.8478e-07\n",
            "Epoch 40/100\n",
            "33/33 [==============================] - 1s 35ms/step - loss: 9.5223 - mae: 10.0108 - lr: 1.9953e-07\n",
            "Epoch 41/100\n",
            "33/33 [==============================] - 1s 34ms/step - loss: 9.6033 - mae: 10.0920 - lr: 2.1544e-07\n",
            "Epoch 42/100\n",
            "33/33 [==============================] - 1s 35ms/step - loss: 9.7375 - mae: 10.2258 - lr: 2.3263e-07\n",
            "Epoch 43/100\n",
            "33/33 [==============================] - 2s 47ms/step - loss: 9.7153 - mae: 10.2007 - lr: 2.5119e-07\n",
            "Epoch 44/100\n",
            "33/33 [==============================] - 2s 52ms/step - loss: 9.3958 - mae: 9.8810 - lr: 2.7123e-07\n",
            "Epoch 45/100\n",
            "33/33 [==============================] - 1s 34ms/step - loss: 8.3217 - mae: 8.8057 - lr: 2.9286e-07\n",
            "Epoch 46/100\n",
            "33/33 [==============================] - 1s 34ms/step - loss: 7.4449 - mae: 7.9233 - lr: 3.1623e-07\n",
            "Epoch 47/100\n",
            "33/33 [==============================] - 1s 35ms/step - loss: 7.1117 - mae: 7.5922 - lr: 3.4145e-07\n",
            "Epoch 48/100\n",
            "33/33 [==============================] - 1s 35ms/step - loss: 6.9084 - mae: 7.3881 - lr: 3.6869e-07\n",
            "Epoch 49/100\n",
            "33/33 [==============================] - 1s 35ms/step - loss: 6.7980 - mae: 7.2780 - lr: 3.9811e-07\n",
            "Epoch 50/100\n",
            "33/33 [==============================] - 1s 35ms/step - loss: 6.7441 - mae: 7.2241 - lr: 4.2987e-07\n",
            "Epoch 51/100\n",
            "33/33 [==============================] - 1s 34ms/step - loss: 6.6640 - mae: 7.1442 - lr: 4.6416e-07\n",
            "Epoch 52/100\n",
            "33/33 [==============================] - 2s 59ms/step - loss: 6.6096 - mae: 7.0885 - lr: 5.0119e-07\n",
            "Epoch 53/100\n",
            "33/33 [==============================] - 1s 35ms/step - loss: 6.5749 - mae: 7.0559 - lr: 5.4117e-07\n",
            "Epoch 54/100\n",
            "33/33 [==============================] - 1s 34ms/step - loss: 6.6707 - mae: 7.1515 - lr: 5.8434e-07\n",
            "Epoch 55/100\n",
            "33/33 [==============================] - 1s 34ms/step - loss: 7.0435 - mae: 7.5239 - lr: 6.3096e-07\n",
            "Epoch 56/100\n",
            "33/33 [==============================] - 1s 34ms/step - loss: 7.8867 - mae: 8.3704 - lr: 6.8129e-07\n",
            "Epoch 57/100\n",
            "33/33 [==============================] - 1s 34ms/step - loss: 8.1997 - mae: 8.6860 - lr: 7.3564e-07\n",
            "Epoch 58/100\n",
            "33/33 [==============================] - 1s 37ms/step - loss: 7.7269 - mae: 8.2124 - lr: 7.9433e-07\n",
            "Epoch 59/100\n",
            "33/33 [==============================] - 1s 34ms/step - loss: 6.9100 - mae: 7.3933 - lr: 8.5770e-07\n",
            "Epoch 60/100\n",
            "33/33 [==============================] - 1s 36ms/step - loss: 6.4353 - mae: 6.9157 - lr: 9.2612e-07\n",
            "Epoch 61/100\n",
            "33/33 [==============================] - 2s 64ms/step - loss: 7.4689 - mae: 7.9524 - lr: 1.0000e-06\n",
            "Epoch 62/100\n",
            "33/33 [==============================] - 1s 35ms/step - loss: 7.2067 - mae: 7.6934 - lr: 1.0798e-06\n",
            "Epoch 63/100\n",
            "33/33 [==============================] - 1s 34ms/step - loss: 12.7664 - mae: 13.2569 - lr: 1.1659e-06\n",
            "Epoch 64/100\n",
            "33/33 [==============================] - 1s 34ms/step - loss: 8.2534 - mae: 8.7390 - lr: 1.2589e-06\n",
            "Epoch 65/100\n",
            "33/33 [==============================] - 1s 34ms/step - loss: 8.6667 - mae: 9.1493 - lr: 1.3594e-06\n",
            "Epoch 66/100\n",
            "33/33 [==============================] - 1s 36ms/step - loss: 10.2053 - mae: 10.6947 - lr: 1.4678e-06\n",
            "Epoch 67/100\n",
            "33/33 [==============================] - 1s 35ms/step - loss: 13.9646 - mae: 14.4581 - lr: 1.5849e-06\n",
            "Epoch 68/100\n",
            "33/33 [==============================] - 1s 35ms/step - loss: 13.8295 - mae: 14.3237 - lr: 1.7113e-06\n",
            "Epoch 69/100\n",
            "33/33 [==============================] - 1s 35ms/step - loss: 17.1901 - mae: 17.6851 - lr: 1.8478e-06\n",
            "Epoch 70/100\n",
            "33/33 [==============================] - 2s 52ms/step - loss: 15.0272 - mae: 15.5228 - lr: 1.9953e-06\n",
            "Epoch 71/100\n",
            "33/33 [==============================] - 1s 35ms/step - loss: 19.4088 - mae: 19.9039 - lr: 2.1544e-06\n",
            "Epoch 72/100\n",
            "33/33 [==============================] - 1s 34ms/step - loss: 15.8344 - mae: 16.3279 - lr: 2.3263e-06\n",
            "Epoch 73/100\n",
            "33/33 [==============================] - 1s 35ms/step - loss: 11.9969 - mae: 12.4875 - lr: 2.5119e-06\n",
            "Epoch 74/100\n",
            "33/33 [==============================] - 1s 34ms/step - loss: 14.5575 - mae: 15.0493 - lr: 2.7123e-06\n",
            "Epoch 75/100\n",
            "33/33 [==============================] - 1s 34ms/step - loss: 19.2354 - mae: 19.7313 - lr: 2.9286e-06\n",
            "Epoch 76/100\n",
            "33/33 [==============================] - 1s 34ms/step - loss: 16.3366 - mae: 16.8308 - lr: 3.1623e-06\n",
            "Epoch 77/100\n",
            "33/33 [==============================] - 1s 35ms/step - loss: 17.6984 - mae: 18.1962 - lr: 3.4145e-06\n",
            "Epoch 78/100\n",
            "33/33 [==============================] - 1s 34ms/step - loss: 15.8905 - mae: 16.3854 - lr: 3.6869e-06\n",
            "Epoch 79/100\n",
            "33/33 [==============================] - 2s 59ms/step - loss: 12.7723 - mae: 13.2640 - lr: 3.9811e-06\n",
            "Epoch 80/100\n",
            "33/33 [==============================] - 1s 35ms/step - loss: 21.9821 - mae: 22.4764 - lr: 4.2987e-06\n",
            "Epoch 81/100\n",
            "33/33 [==============================] - 1s 36ms/step - loss: 27.6268 - mae: 28.1240 - lr: 4.6416e-06\n",
            "Epoch 82/100\n",
            "33/33 [==============================] - 1s 35ms/step - loss: 20.6738 - mae: 21.1709 - lr: 5.0119e-06\n",
            "Epoch 83/100\n",
            "33/33 [==============================] - 1s 34ms/step - loss: 22.1484 - mae: 22.6462 - lr: 5.4117e-06\n",
            "Epoch 84/100\n",
            "33/33 [==============================] - 1s 34ms/step - loss: 22.8218 - mae: 23.3199 - lr: 5.8434e-06\n",
            "Epoch 85/100\n",
            "33/33 [==============================] - 1s 34ms/step - loss: 27.1980 - mae: 27.6948 - lr: 6.3096e-06\n",
            "Epoch 86/100\n",
            "33/33 [==============================] - 1s 34ms/step - loss: 35.6704 - mae: 36.1661 - lr: 6.8129e-06\n",
            "Epoch 87/100\n",
            "33/33 [==============================] - 1s 34ms/step - loss: 33.4914 - mae: 33.9903 - lr: 7.3564e-06\n",
            "Epoch 88/100\n",
            "33/33 [==============================] - 2s 57ms/step - loss: 44.7454 - mae: 45.2406 - lr: 7.9433e-06\n",
            "Epoch 89/100\n",
            "33/33 [==============================] - 1s 44ms/step - loss: 28.0025 - mae: 28.4978 - lr: 8.5770e-06\n",
            "Epoch 90/100\n",
            "33/33 [==============================] - 1s 35ms/step - loss: 38.0303 - mae: 38.5235 - lr: 9.2612e-06\n",
            "Epoch 91/100\n",
            "33/33 [==============================] - 1s 35ms/step - loss: 31.7219 - mae: 32.2166 - lr: 1.0000e-05\n",
            "Epoch 92/100\n",
            "33/33 [==============================] - 1s 35ms/step - loss: 37.6119 - mae: 38.1095 - lr: 1.0798e-05\n",
            "Epoch 93/100\n",
            "33/33 [==============================] - 1s 36ms/step - loss: 45.5478 - mae: 46.0475 - lr: 1.1659e-05\n",
            "Epoch 94/100\n",
            "33/33 [==============================] - 1s 35ms/step - loss: 34.5964 - mae: 35.0912 - lr: 1.2589e-05\n",
            "Epoch 95/100\n",
            "33/33 [==============================] - 1s 34ms/step - loss: 27.5510 - mae: 28.0467 - lr: 1.3594e-05\n",
            "Epoch 96/100\n",
            "33/33 [==============================] - 2s 46ms/step - loss: 47.8054 - mae: 48.3035 - lr: 1.4678e-05\n",
            "Epoch 97/100\n",
            "33/33 [==============================] - 2s 53ms/step - loss: 42.6315 - mae: 43.1287 - lr: 1.5849e-05\n",
            "Epoch 98/100\n",
            "33/33 [==============================] - 1s 35ms/step - loss: 52.4638 - mae: 52.9623 - lr: 1.7113e-05\n",
            "Epoch 99/100\n",
            "33/33 [==============================] - 1s 35ms/step - loss: 40.9370 - mae: 41.4343 - lr: 1.8478e-05\n",
            "Epoch 100/100\n",
            "33/33 [==============================] - 1s 35ms/step - loss: 29.0993 - mae: 29.5937 - lr: 1.9953e-05\n"
          ]
        }
      ]
    },
    {
      "cell_type": "code",
      "source": [
        "plt.semilogx(history.history[\"lr\"], history.history[\"loss\"])\n",
        "plt.axis([1e-7, 1e-4, 0, 30])"
      ],
      "metadata": {
        "colab": {
          "base_uri": "https://localhost:8080/",
          "height": 290
        },
        "id": "1vN_vSvoDQki",
        "outputId": "46bd4b79-a6fb-4835-ae74-ed959459774c"
      },
      "execution_count": null,
      "outputs": [
        {
          "output_type": "execute_result",
          "data": {
            "text/plain": [
              "(1e-07, 0.0001, 0.0, 30.0)"
            ]
          },
          "metadata": {},
          "execution_count": 13
        },
        {
          "output_type": "display_data",
          "data": {
            "text/plain": [
              "<Figure size 432x288 with 1 Axes>"
            ],
            "image/png": "[encoded data removed]"
          },
          "metadata": {
            "needs_background": "light"
          }
        }
      ]
    },
    {
      "cell_type": "code",
      "source": [
        "keras.backend.clear_session()\n",
        "tf.random.set_seed(42)\n",
        "np.random.seed(42)\n",
        "\n",
        "window_size = 30\n",
        "train_set = window_dataset(x_train, window_size, batch_size=128)\n",
        "valid_set = window_dataset(x_valid, window_size, batch_size=128)\n",
        "\n",
        "model = keras.models.Sequential([\n",
        "  keras.layers.Lambda(lambda x: tf.expand_dims(x, axis=-1),\n",
        "                      input_shape=[None]),\n",
        "  keras.layers.SimpleRNN(100, return_sequences=True),\n",
        "  keras.layers.SimpleRNN(100),\n",
        "  keras.layers.Dense(1),\n",
        "  keras.layers.Lambda(lambda x: x * 200.0)\n",
        "])\n",
        "optimizer = keras.optimizers.SGD(lr=1.5e-6, momentum=0.9)\n",
        "model.compile(loss=keras.losses.Huber(),\n",
        "              optimizer=optimizer,\n",
        "              metrics=[\"mae\"])\n",
        "\n",
        "early_stopping = keras.callbacks.EarlyStopping(patience=50)\n",
        "model_checkpoint = keras.callbacks.ModelCheckpoint(\n",
        "    \"my_checkpoint\", save_best_only=True)\n",
        "model.fit(train_set, epochs=500,\n",
        "          validation_data=valid_set,\n",
        "          callbacks=[early_stopping, model_checkpoint])"
      ],
      "metadata": {
        "id": "q8ShW7mMDlJf"
      },
      "execution_count": null,
      "outputs": []
    },
    {
      "cell_type": "code",
      "source": [
        "model = keras.models.load_model(\"my_checkpoint\")"
      ],
      "metadata": {
        "id": "aH2VQ6YAEYT4"
      },
      "execution_count": null,
      "outputs": []
    },
    {
      "cell_type": "code",
      "source": [
        "rnn_forecast = model_forecast(\n",
        "    model,\n",
        "    series[split_time - window_size:-1],\n",
        "    window_size)[:, 0]"
      ],
      "metadata": {
        "colab": {
          "base_uri": "https://localhost:8080/"
        },
        "id": "R3IyU1DjEY4e",
        "outputId": "cc040b09-ea58-4987-c048-00b1358441be"
      },
      "execution_count": null,
      "outputs": [
        {
          "output_type": "stream",
          "name": "stdout",
          "text": [
            "15/15 [==============================] - 0s 12ms/step\n"
          ]
        }
      ]
    },
    {
      "cell_type": "code",
      "source": [
        "plt.figure(figsize=(10, 6))\n",
        "plot_series(time_valid, x_valid)\n",
        "plot_series(time_valid, rnn_forecast)"
      ],
      "metadata": {
        "colab": {
          "base_uri": "https://localhost:8080/",
          "height": 702
        },
        "id": "fzudIGu2F1Rn",
        "outputId": "cc279af2-3561-4dd2-b02b-dc5fb6f3b8a6"
      },
      "execution_count": null,
      "outputs": [
        {
          "output_type": "error",
          "ename": "AttributeError",
          "evalue": "ignored",
          "traceback": [
            "\u001b[0;31m---------------------------------------------------------------------------\u001b[0m",
            "\u001b[0;31mAttributeError\u001b[0m                            Traceback (most recent call last)",
            "\u001b[0;32m<ipython-input-23-c62de014e058>\u001b[0m in \u001b[0;36m<module>\u001b[0;34m\u001b[0m\n\u001b[1;32m      1\u001b[0m \u001b[0mplt\u001b[0m\u001b[0;34m.\u001b[0m\u001b[0mfigure\u001b[0m\u001b[0;34m(\u001b[0m\u001b[0mfigsize\u001b[0m\u001b[0;34m=\u001b[0m\u001b[0;34m(\u001b[0m\u001b[0;36m10\u001b[0m\u001b[0;34m,\u001b[0m \u001b[0;36m6\u001b[0m\u001b[0;34m)\u001b[0m\u001b[0;34m)\u001b[0m\u001b[0;34m\u001b[0m\u001b[0;34m\u001b[0m\u001b[0m\n\u001b[0;32m----> 2\u001b[0;31m \u001b[0mplot_series\u001b[0m\u001b[0;34m(\u001b[0m\u001b[0mtime_valid\u001b[0m\u001b[0;34m,\u001b[0m \u001b[0mx_valid\u001b[0m\u001b[0;34m)\u001b[0m\u001b[0;34m\u001b[0m\u001b[0;34m\u001b[0m\u001b[0m\n\u001b[0m\u001b[1;32m      3\u001b[0m \u001b[0mplot_series\u001b[0m\u001b[0;34m(\u001b[0m\u001b[0mtime_valid\u001b[0m\u001b[0;34m,\u001b[0m \u001b[0mrnn_forecast\u001b[0m\u001b[0;34m)\u001b[0m\u001b[0;34m\u001b[0m\u001b[0;34m\u001b[0m\u001b[0m\n",
            "\u001b[0;32m<ipython-input-21-14c3f5bb8a53>\u001b[0m in \u001b[0;36mplot_series\u001b[0;34m(time, series, format, start, end, label)\u001b[0m\n\u001b[1;32m      1\u001b[0m \u001b[0;32mdef\u001b[0m \u001b[0mplot_series\u001b[0m\u001b[0;34m(\u001b[0m\u001b[0mtime\u001b[0m\u001b[0;34m,\u001b[0m \u001b[0mseries\u001b[0m\u001b[0;34m,\u001b[0m \u001b[0mformat\u001b[0m\u001b[0;34m=\u001b[0m\u001b[0;34m'-'\u001b[0m\u001b[0;34m,\u001b[0m \u001b[0mstart\u001b[0m \u001b[0;34m=\u001b[0m \u001b[0;36m0\u001b[0m\u001b[0;34m,\u001b[0m \u001b[0mend\u001b[0m\u001b[0;34m=\u001b[0m \u001b[0;32mNone\u001b[0m\u001b[0;34m,\u001b[0m \u001b[0mlabel\u001b[0m \u001b[0;34m=\u001b[0m \u001b[0;32mNone\u001b[0m\u001b[0;34m)\u001b[0m\u001b[0;34m:\u001b[0m\u001b[0;34m\u001b[0m\u001b[0;34m\u001b[0m\u001b[0m\n\u001b[0;32m----> 2\u001b[0;31m     \u001b[0mplt\u001b[0m\u001b[0;34m.\u001b[0m\u001b[0mplot\u001b[0m\u001b[0;34m(\u001b[0m\u001b[0mtime\u001b[0m\u001b[0;34m[\u001b[0m\u001b[0mstart\u001b[0m\u001b[0;34m:\u001b[0m\u001b[0mend\u001b[0m\u001b[0;34m]\u001b[0m\u001b[0;34m,\u001b[0m \u001b[0mseries\u001b[0m\u001b[0;34m[\u001b[0m\u001b[0mstart\u001b[0m\u001b[0;34m:\u001b[0m\u001b[0mend\u001b[0m\u001b[0;34m]\u001b[0m\u001b[0;34m,\u001b[0m \u001b[0mformat\u001b[0m \u001b[0;34m=\u001b[0m \u001b[0mformat\u001b[0m\u001b[0;34m,\u001b[0m \u001b[0mlabel\u001b[0m \u001b[0;34m=\u001b[0m \u001b[0mlabel\u001b[0m\u001b[0;34m)\u001b[0m\u001b[0;34m\u001b[0m\u001b[0;34m\u001b[0m\u001b[0m\n\u001b[0m\u001b[1;32m      3\u001b[0m     \u001b[0mplt\u001b[0m\u001b[0;34m.\u001b[0m\u001b[0mxlabel\u001b[0m\u001b[0;34m(\u001b[0m\u001b[0;34m'Time'\u001b[0m\u001b[0;34m)\u001b[0m\u001b[0;34m\u001b[0m\u001b[0;34m\u001b[0m\u001b[0m\n\u001b[1;32m      4\u001b[0m     \u001b[0mplt\u001b[0m\u001b[0;34m.\u001b[0m\u001b[0mylabel\u001b[0m\u001b[0;34m(\u001b[0m\u001b[0;34m'Value'\u001b[0m\u001b[0;34m)\u001b[0m\u001b[0;34m\u001b[0m\u001b[0;34m\u001b[0m\u001b[0m\n\u001b[1;32m      5\u001b[0m     \u001b[0;32mif\u001b[0m \u001b[0mlabel\u001b[0m\u001b[0;34m:\u001b[0m\u001b[0;34m\u001b[0m\u001b[0;34m\u001b[0m\u001b[0m\n",
            "\u001b[0;32m/usr/local/lib/python3.8/dist-packages/matplotlib/pyplot.py\u001b[0m in \u001b[0;36mplot\u001b[0;34m(scalex, scaley, data, *args, **kwargs)\u001b[0m\n\u001b[1;32m   2759\u001b[0m \u001b[0;34m@\u001b[0m\u001b[0mdocstring\u001b[0m\u001b[0;34m.\u001b[0m\u001b[0mcopy\u001b[0m\u001b[0;34m(\u001b[0m\u001b[0mAxes\u001b[0m\u001b[0;34m.\u001b[0m\u001b[0mplot\u001b[0m\u001b[0;34m)\u001b[0m\u001b[0;34m\u001b[0m\u001b[0;34m\u001b[0m\u001b[0m\n\u001b[1;32m   2760\u001b[0m \u001b[0;32mdef\u001b[0m \u001b[0mplot\u001b[0m\u001b[0;34m(\u001b[0m\u001b[0;34m*\u001b[0m\u001b[0margs\u001b[0m\u001b[0;34m,\u001b[0m \u001b[0mscalex\u001b[0m\u001b[0;34m=\u001b[0m\u001b[0;32mTrue\u001b[0m\u001b[0;34m,\u001b[0m \u001b[0mscaley\u001b[0m\u001b[0;34m=\u001b[0m\u001b[0;32mTrue\u001b[0m\u001b[0;34m,\u001b[0m \u001b[0mdata\u001b[0m\u001b[0;34m=\u001b[0m\u001b[0;32mNone\u001b[0m\u001b[0;34m,\u001b[0m \u001b[0;34m**\u001b[0m\u001b[0mkwargs\u001b[0m\u001b[0;34m)\u001b[0m\u001b[0;34m:\u001b[0m\u001b[0;34m\u001b[0m\u001b[0;34m\u001b[0m\u001b[0m\n\u001b[0;32m-> 2761\u001b[0;31m     return gca().plot(\n\u001b[0m\u001b[1;32m   2762\u001b[0m         *args, scalex=scalex, scaley=scaley, **({\"data\": data} if data\n\u001b[1;32m   2763\u001b[0m         is not None else {}), **kwargs)\n",
            "\u001b[0;32m/usr/local/lib/python3.8/dist-packages/matplotlib/axes/_axes.py\u001b[0m in \u001b[0;36mplot\u001b[0;34m(self, scalex, scaley, data, *args, **kwargs)\u001b[0m\n\u001b[1;32m   1645\u001b[0m         \"\"\"\n\u001b[1;32m   1646\u001b[0m         \u001b[0mkwargs\u001b[0m \u001b[0;34m=\u001b[0m \u001b[0mcbook\u001b[0m\u001b[0;34m.\u001b[0m\u001b[0mnormalize_kwargs\u001b[0m\u001b[0;34m(\u001b[0m\u001b[0mkwargs\u001b[0m\u001b[0;34m,\u001b[0m \u001b[0mmlines\u001b[0m\u001b[0;34m.\u001b[0m\u001b[0mLine2D\u001b[0m\u001b[0;34m)\u001b[0m\u001b[0;34m\u001b[0m\u001b[0;34m\u001b[0m\u001b[0m\n\u001b[0;32m-> 1647\u001b[0;31m         \u001b[0mlines\u001b[0m \u001b[0;34m=\u001b[0m \u001b[0;34m[\u001b[0m\u001b[0;34m*\u001b[0m\u001b[0mself\u001b[0m\u001b[0;34m.\u001b[0m\u001b[0m_get_lines\u001b[0m\u001b[0;34m(\u001b[0m\u001b[0;34m*\u001b[0m\u001b[0margs\u001b[0m\u001b[0;34m,\u001b[0m \u001b[0mdata\u001b[0m\u001b[0;34m=\u001b[0m\u001b[0mdata\u001b[0m\u001b[0;34m,\u001b[0m \u001b[0;34m**\u001b[0m\u001b[0mkwargs\u001b[0m\u001b[0;34m)\u001b[0m\u001b[0;34m]\u001b[0m\u001b[0;34m\u001b[0m\u001b[0;34m\u001b[0m\u001b[0m\n\u001b[0m\u001b[1;32m   1648\u001b[0m         \u001b[0;32mfor\u001b[0m \u001b[0mline\u001b[0m \u001b[0;32min\u001b[0m \u001b[0mlines\u001b[0m\u001b[0;34m:\u001b[0m\u001b[0;34m\u001b[0m\u001b[0;34m\u001b[0m\u001b[0m\n\u001b[1;32m   1649\u001b[0m             \u001b[0mself\u001b[0m\u001b[0;34m.\u001b[0m\u001b[0madd_line\u001b[0m\u001b[0;34m(\u001b[0m\u001b[0mline\u001b[0m\u001b[0;34m)\u001b[0m\u001b[0;34m\u001b[0m\u001b[0;34m\u001b[0m\u001b[0m\n",
            "\u001b[0;32m/usr/local/lib/python3.8/dist-packages/matplotlib/axes/_base.py\u001b[0m in \u001b[0;36m__call__\u001b[0;34m(self, *args, **kwargs)\u001b[0m\n\u001b[1;32m    214\u001b[0m                 \u001b[0mthis\u001b[0m \u001b[0;34m+=\u001b[0m \u001b[0margs\u001b[0m\u001b[0;34m[\u001b[0m\u001b[0;36m0\u001b[0m\u001b[0;34m]\u001b[0m\u001b[0;34m,\u001b[0m\u001b[0;34m\u001b[0m\u001b[0;34m\u001b[0m\u001b[0m\n\u001b[1;32m    215\u001b[0m                 \u001b[0margs\u001b[0m \u001b[0;34m=\u001b[0m \u001b[0margs\u001b[0m\u001b[0;34m[\u001b[0m\u001b[0;36m1\u001b[0m\u001b[0;34m:\u001b[0m\u001b[0;34m]\u001b[0m\u001b[0;34m\u001b[0m\u001b[0;34m\u001b[0m\u001b[0m\n\u001b[0;32m--> 216\u001b[0;31m             \u001b[0;32myield\u001b[0m \u001b[0;32mfrom\u001b[0m \u001b[0mself\u001b[0m\u001b[0;34m.\u001b[0m\u001b[0m_plot_args\u001b[0m\u001b[0;34m(\u001b[0m\u001b[0mthis\u001b[0m\u001b[0;34m,\u001b[0m \u001b[0mkwargs\u001b[0m\u001b[0;34m)\u001b[0m\u001b[0;34m\u001b[0m\u001b[0;34m\u001b[0m\u001b[0m\n\u001b[0m\u001b[1;32m    217\u001b[0m \u001b[0;34m\u001b[0m\u001b[0m\n\u001b[1;32m    218\u001b[0m     \u001b[0;32mdef\u001b[0m \u001b[0mget_next_color\u001b[0m\u001b[0;34m(\u001b[0m\u001b[0mself\u001b[0m\u001b[0;34m)\u001b[0m\u001b[0;34m:\u001b[0m\u001b[0;34m\u001b[0m\u001b[0;34m\u001b[0m\u001b[0m\n",
            "\u001b[0;32m/usr/local/lib/python3.8/dist-packages/matplotlib/axes/_base.py\u001b[0m in \u001b[0;36m_plot_args\u001b[0;34m(self, tup, kwargs)\u001b[0m\n\u001b[1;32m    361\u001b[0m                 \u001b[0;34m\"2.2\"\u001b[0m\u001b[0;34m,\u001b[0m \u001b[0mmessage\u001b[0m\u001b[0;34m=\u001b[0m\u001b[0;34m\"cycling among columns of inputs with \"\u001b[0m\u001b[0;34m\u001b[0m\u001b[0;34m\u001b[0m\u001b[0m\n\u001b[1;32m    362\u001b[0m                 \"non-matching shapes is deprecated.\")\n\u001b[0;32m--> 363\u001b[0;31m         return [func(x[:, j % ncx], y[:, j % ncy], kw, kwargs)\n\u001b[0m\u001b[1;32m    364\u001b[0m                 for j in range(max(ncx, ncy))]\n\u001b[1;32m    365\u001b[0m \u001b[0;34m\u001b[0m\u001b[0m\n",
            "\u001b[0;32m/usr/local/lib/python3.8/dist-packages/matplotlib/axes/_base.py\u001b[0m in \u001b[0;36m<listcomp>\u001b[0;34m(.0)\u001b[0m\n\u001b[1;32m    361\u001b[0m                 \u001b[0;34m\"2.2\"\u001b[0m\u001b[0;34m,\u001b[0m \u001b[0mmessage\u001b[0m\u001b[0;34m=\u001b[0m\u001b[0;34m\"cycling among columns of inputs with \"\u001b[0m\u001b[0;34m\u001b[0m\u001b[0;34m\u001b[0m\u001b[0m\n\u001b[1;32m    362\u001b[0m                 \"non-matching shapes is deprecated.\")\n\u001b[0;32m--> 363\u001b[0;31m         return [func(x[:, j % ncx], y[:, j % ncy], kw, kwargs)\n\u001b[0m\u001b[1;32m    364\u001b[0m                 for j in range(max(ncx, ncy))]\n\u001b[1;32m    365\u001b[0m \u001b[0;34m\u001b[0m\u001b[0m\n",
            "\u001b[0;32m/usr/local/lib/python3.8/dist-packages/matplotlib/axes/_base.py\u001b[0m in \u001b[0;36m_makeline\u001b[0;34m(self, x, y, kw, kwargs)\u001b[0m\n\u001b[1;32m    253\u001b[0m         \u001b[0mdefault_dict\u001b[0m \u001b[0;34m=\u001b[0m \u001b[0mself\u001b[0m\u001b[0;34m.\u001b[0m\u001b[0m_getdefaults\u001b[0m\u001b[0;34m(\u001b[0m\u001b[0mset\u001b[0m\u001b[0;34m(\u001b[0m\u001b[0;34m)\u001b[0m\u001b[0;34m,\u001b[0m \u001b[0mkw\u001b[0m\u001b[0;34m)\u001b[0m\u001b[0;34m\u001b[0m\u001b[0;34m\u001b[0m\u001b[0m\n\u001b[1;32m    254\u001b[0m         \u001b[0mself\u001b[0m\u001b[0;34m.\u001b[0m\u001b[0m_setdefaults\u001b[0m\u001b[0;34m(\u001b[0m\u001b[0mdefault_dict\u001b[0m\u001b[0;34m,\u001b[0m \u001b[0mkw\u001b[0m\u001b[0;34m)\u001b[0m\u001b[0;34m\u001b[0m\u001b[0;34m\u001b[0m\u001b[0m\n\u001b[0;32m--> 255\u001b[0;31m         \u001b[0mseg\u001b[0m \u001b[0;34m=\u001b[0m \u001b[0mmlines\u001b[0m\u001b[0;34m.\u001b[0m\u001b[0mLine2D\u001b[0m\u001b[0;34m(\u001b[0m\u001b[0mx\u001b[0m\u001b[0;34m,\u001b[0m \u001b[0my\u001b[0m\u001b[0;34m,\u001b[0m \u001b[0;34m**\u001b[0m\u001b[0mkw\u001b[0m\u001b[0;34m)\u001b[0m\u001b[0;34m\u001b[0m\u001b[0;34m\u001b[0m\u001b[0m\n\u001b[0m\u001b[1;32m    256\u001b[0m         \u001b[0;32mreturn\u001b[0m \u001b[0mseg\u001b[0m\u001b[0;34m\u001b[0m\u001b[0;34m\u001b[0m\u001b[0m\n\u001b[1;32m    257\u001b[0m \u001b[0;34m\u001b[0m\u001b[0m\n",
            "\u001b[0;32m/usr/local/lib/python3.8/dist-packages/matplotlib/lines.py\u001b[0m in \u001b[0;36m__init__\u001b[0;34m(self, xdata, ydata, linewidth, linestyle, color, marker, markersize, markeredgewidth, markeredgecolor, markerfacecolor, markerfacecoloralt, fillstyle, antialiased, dash_capstyle, solid_capstyle, dash_joinstyle, solid_joinstyle, pickradius, drawstyle, markevery, **kwargs)\u001b[0m\n\u001b[1;32m    398\u001b[0m         \u001b[0;31m# update kwargs before updating data to give the caller a\u001b[0m\u001b[0;34m\u001b[0m\u001b[0;34m\u001b[0m\u001b[0;34m\u001b[0m\u001b[0m\n\u001b[1;32m    399\u001b[0m         \u001b[0;31m# chance to init axes (and hence unit support)\u001b[0m\u001b[0;34m\u001b[0m\u001b[0;34m\u001b[0m\u001b[0;34m\u001b[0m\u001b[0m\n\u001b[0;32m--> 400\u001b[0;31m         \u001b[0mself\u001b[0m\u001b[0;34m.\u001b[0m\u001b[0mupdate\u001b[0m\u001b[0;34m(\u001b[0m\u001b[0mkwargs\u001b[0m\u001b[0;34m)\u001b[0m\u001b[0;34m\u001b[0m\u001b[0;34m\u001b[0m\u001b[0m\n\u001b[0m\u001b[1;32m    401\u001b[0m         \u001b[0mself\u001b[0m\u001b[0;34m.\u001b[0m\u001b[0mpickradius\u001b[0m \u001b[0;34m=\u001b[0m \u001b[0mpickradius\u001b[0m\u001b[0;34m\u001b[0m\u001b[0;34m\u001b[0m\u001b[0m\n\u001b[1;32m    402\u001b[0m         \u001b[0mself\u001b[0m\u001b[0;34m.\u001b[0m\u001b[0mind_offset\u001b[0m \u001b[0;34m=\u001b[0m \u001b[0;36m0\u001b[0m\u001b[0;34m\u001b[0m\u001b[0;34m\u001b[0m\u001b[0m\n",
            "\u001b[0;32m/usr/local/lib/python3.8/dist-packages/matplotlib/artist.py\u001b[0m in \u001b[0;36mupdate\u001b[0;34m(self, props)\u001b[0m\n\u001b[1;32m   1004\u001b[0m \u001b[0;34m\u001b[0m\u001b[0m\n\u001b[1;32m   1005\u001b[0m         \u001b[0;32mwith\u001b[0m \u001b[0mcbook\u001b[0m\u001b[0;34m.\u001b[0m\u001b[0m_setattr_cm\u001b[0m\u001b[0;34m(\u001b[0m\u001b[0mself\u001b[0m\u001b[0;34m,\u001b[0m \u001b[0meventson\u001b[0m\u001b[0;34m=\u001b[0m\u001b[0;32mFalse\u001b[0m\u001b[0;34m)\u001b[0m\u001b[0;34m:\u001b[0m\u001b[0;34m\u001b[0m\u001b[0;34m\u001b[0m\u001b[0m\n\u001b[0;32m-> 1006\u001b[0;31m             \u001b[0mret\u001b[0m \u001b[0;34m=\u001b[0m \u001b[0;34m[\u001b[0m\u001b[0m_update_property\u001b[0m\u001b[0;34m(\u001b[0m\u001b[0mself\u001b[0m\u001b[0;34m,\u001b[0m \u001b[0mk\u001b[0m\u001b[0;34m,\u001b[0m \u001b[0mv\u001b[0m\u001b[0;34m)\u001b[0m \u001b[0;32mfor\u001b[0m \u001b[0mk\u001b[0m\u001b[0;34m,\u001b[0m \u001b[0mv\u001b[0m \u001b[0;32min\u001b[0m \u001b[0mprops\u001b[0m\u001b[0;34m.\u001b[0m\u001b[0mitems\u001b[0m\u001b[0;34m(\u001b[0m\u001b[0;34m)\u001b[0m\u001b[0;34m]\u001b[0m\u001b[0;34m\u001b[0m\u001b[0;34m\u001b[0m\u001b[0m\n\u001b[0m\u001b[1;32m   1007\u001b[0m \u001b[0;34m\u001b[0m\u001b[0m\n\u001b[1;32m   1008\u001b[0m         \u001b[0;32mif\u001b[0m \u001b[0mlen\u001b[0m\u001b[0;34m(\u001b[0m\u001b[0mret\u001b[0m\u001b[0;34m)\u001b[0m\u001b[0;34m:\u001b[0m\u001b[0;34m\u001b[0m\u001b[0;34m\u001b[0m\u001b[0m\n",
            "\u001b[0;32m/usr/local/lib/python3.8/dist-packages/matplotlib/artist.py\u001b[0m in \u001b[0;36m<listcomp>\u001b[0;34m(.0)\u001b[0m\n\u001b[1;32m   1004\u001b[0m \u001b[0;34m\u001b[0m\u001b[0m\n\u001b[1;32m   1005\u001b[0m         \u001b[0;32mwith\u001b[0m \u001b[0mcbook\u001b[0m\u001b[0;34m.\u001b[0m\u001b[0m_setattr_cm\u001b[0m\u001b[0;34m(\u001b[0m\u001b[0mself\u001b[0m\u001b[0;34m,\u001b[0m \u001b[0meventson\u001b[0m\u001b[0;34m=\u001b[0m\u001b[0;32mFalse\u001b[0m\u001b[0;34m)\u001b[0m\u001b[0;34m:\u001b[0m\u001b[0;34m\u001b[0m\u001b[0;34m\u001b[0m\u001b[0m\n\u001b[0;32m-> 1006\u001b[0;31m             \u001b[0mret\u001b[0m \u001b[0;34m=\u001b[0m \u001b[0;34m[\u001b[0m\u001b[0m_update_property\u001b[0m\u001b[0;34m(\u001b[0m\u001b[0mself\u001b[0m\u001b[0;34m,\u001b[0m \u001b[0mk\u001b[0m\u001b[0;34m,\u001b[0m \u001b[0mv\u001b[0m\u001b[0;34m)\u001b[0m \u001b[0;32mfor\u001b[0m \u001b[0mk\u001b[0m\u001b[0;34m,\u001b[0m \u001b[0mv\u001b[0m \u001b[0;32min\u001b[0m \u001b[0mprops\u001b[0m\u001b[0;34m.\u001b[0m\u001b[0mitems\u001b[0m\u001b[0;34m(\u001b[0m\u001b[0;34m)\u001b[0m\u001b[0;34m]\u001b[0m\u001b[0;34m\u001b[0m\u001b[0;34m\u001b[0m\u001b[0m\n\u001b[0m\u001b[1;32m   1007\u001b[0m \u001b[0;34m\u001b[0m\u001b[0m\n\u001b[1;32m   1008\u001b[0m         \u001b[0;32mif\u001b[0m \u001b[0mlen\u001b[0m\u001b[0;34m(\u001b[0m\u001b[0mret\u001b[0m\u001b[0;34m)\u001b[0m\u001b[0;34m:\u001b[0m\u001b[0;34m\u001b[0m\u001b[0;34m\u001b[0m\u001b[0m\n",
            "\u001b[0;32m/usr/local/lib/python3.8/dist-packages/matplotlib/artist.py\u001b[0m in \u001b[0;36m_update_property\u001b[0;34m(self, k, v)\u001b[0m\n\u001b[1;32m    999\u001b[0m                 \u001b[0mfunc\u001b[0m \u001b[0;34m=\u001b[0m \u001b[0mgetattr\u001b[0m\u001b[0;34m(\u001b[0m\u001b[0mself\u001b[0m\u001b[0;34m,\u001b[0m \u001b[0;34m'set_'\u001b[0m \u001b[0;34m+\u001b[0m \u001b[0mk\u001b[0m\u001b[0;34m,\u001b[0m \u001b[0;32mNone\u001b[0m\u001b[0;34m)\u001b[0m\u001b[0;34m\u001b[0m\u001b[0;34m\u001b[0m\u001b[0m\n\u001b[1;32m   1000\u001b[0m                 \u001b[0;32mif\u001b[0m \u001b[0;32mnot\u001b[0m \u001b[0mcallable\u001b[0m\u001b[0;34m(\u001b[0m\u001b[0mfunc\u001b[0m\u001b[0;34m)\u001b[0m\u001b[0;34m:\u001b[0m\u001b[0;34m\u001b[0m\u001b[0;34m\u001b[0m\u001b[0m\n\u001b[0;32m-> 1001\u001b[0;31m                     raise AttributeError('{!r} object has no property {!r}'\n\u001b[0m\u001b[1;32m   1002\u001b[0m                                          .format(type(self).__name__, k))\n\u001b[1;32m   1003\u001b[0m                 \u001b[0;32mreturn\u001b[0m \u001b[0mfunc\u001b[0m\u001b[0;34m(\u001b[0m\u001b[0mv\u001b[0m\u001b[0;34m)\u001b[0m\u001b[0;34m\u001b[0m\u001b[0;34m\u001b[0m\u001b[0m\n",
            "\u001b[0;31mAttributeError\u001b[0m: 'Line2D' object has no property 'format'"
          ]
        },
        {
          "output_type": "display_data",
          "data": {
            "text/plain": [
              "<Figure size 720x432 with 1 Axes>"
            ],
            "image/png": "[encoded data removed]"
          },
          "metadata": {
            "needs_background": "light"
          }
        }
      ]
    },
    {
      "cell_type": "code",
      "source": [
        "keras.metrics.mean_absolute_error(x_valid, rnn_forecast).numpy()"
      ],
      "metadata": {
        "colab": {
          "base_uri": "https://localhost:8080/"
        },
        "id": "O4l5oFbZF-Xu",
        "outputId": "630eb945-5915-4350-ce9a-44b1a8e42517"
      },
      "execution_count": null,
      "outputs": [
        {
          "output_type": "execute_result",
          "data": {
            "text/plain": [
              "5.8650346"
            ]
          },
          "metadata": {},
          "execution_count": 24
        }
      ]
    }
  ]
}