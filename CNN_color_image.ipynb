{
  "nbformat": 4,
  "nbformat_minor": 0,
  "metadata": {
    "colab": {
      "provenance": [],
      "authorship_tag": "ABX9TyPIBoWgGcwpUxDRM/SVgxVm",
      "include_colab_link": true
    },
    "kernelspec": {
      "name": "python3",
      "display_name": "Python 3"
    },
    "language_info": {
      "name": "python"
    },
    "accelerator": "GPU",
    "gpuClass": "standard"
  },
  "cells": [
    {
      "cell_type": "markdown",
      "metadata": {
        "id": "view-in-github",
        "colab_type": "text"
      },
      "source": [
        "<a href=\"https://colab.research.google.com/github/cestmhd/TensorflowPractice/blob/main/CNN_color_image.ipynb\" target=\"_parent\"><img src=\"https://colab.research.google.com/assets/colab-badge.svg\" alt=\"Open In Colab\"/></a>"
      ]
    },
    {
      "cell_type": "code",
      "execution_count": 2,
      "metadata": {
        "id": "oK1s6SHyHWH6"
      },
      "outputs": [],
      "source": [
        "import tensorflow as tf\n",
        "from tensorflow.keras.preprocessing.image import ImageDataGenerator\n",
        "import numpy as np\n",
        "import os\n",
        "import matplotlib.pyplot as plt\n"
      ]
    },
    {
      "cell_type": "code",
      "source": [
        "import logging\n",
        "logger = tf.get_logger()\n",
        "logger.setLevel(logging.ERROR)"
      ],
      "metadata": {
        "id": "G9Q0M1c9H1aU"
      },
      "execution_count": 3,
      "outputs": []
    },
    {
      "cell_type": "code",
      "source": [
        "_URL = 'https://storage.googleapis.com/mledu-datasets/cats_and_dogs_filtered.zip'\n",
        "zip_dir = tf.keras.utils.get_file('cats_and_dogs_filterted.zip', origin=_URL, extract=True)"
      ],
      "metadata": {
        "id": "Uh9ard7QH2q8"
      },
      "execution_count": 5,
      "outputs": []
    },
    {
      "cell_type": "code",
      "source": [
        "zip_dir_base = os.path.dirname(zip_dir)\n",
        "print(zip_dir_base)"
      ],
      "metadata": {
        "colab": {
          "base_uri": "https://localhost:8080/"
        },
        "id": "_wXCJiRHINwG",
        "outputId": "010b5f12-795d-4967-f694-5b47d0b50d74"
      },
      "execution_count": 7,
      "outputs": [
        {
          "output_type": "stream",
          "name": "stdout",
          "text": [
            "/root/.keras/datasets\n"
          ]
        }
      ]
    },
    {
      "cell_type": "code",
      "source": [
        "base_dir = os.path.join(os.path.dirname(zip_dir), 'cats_and_dogs_filtered')\n",
        "train_dir = os.path.join(base_dir, 'train')\n",
        "validation_dir = os.path.join(base_dir, 'validation')\n",
        "\n",
        "train_cats_dir = os.path.join(train_dir, 'cats')  # directory with our training cat pictures\n",
        "train_dogs_dir = os.path.join(train_dir, 'dogs')  # directory with our training dog pictures\n",
        "validation_cats_dir = os.path.join(validation_dir, 'cats')  # directory with our validation cat pictures\n",
        "validation_dogs_dir = os.path.join(validation_dir, 'dogs')  # directory with our validation dog pictures"
      ],
      "metadata": {
        "id": "9pd8VTHvIpBS"
      },
      "execution_count": 8,
      "outputs": []
    },
    {
      "cell_type": "code",
      "source": [
        "num_cats_tr = len(os.listdir(train_cats_dir))\n",
        "num_dogs_tr = len(os.listdir(train_dogs_dir))\n",
        "\n",
        "num_cats_val = len(os.listdir(validation_cats_dir))\n",
        "num_dogs_val = len(os.listdir(validation_dogs_dir))\n",
        "\n",
        "total_train = num_cats_tr + num_dogs_tr\n",
        "total_val = num_cats_val + num_dogs_val"
      ],
      "metadata": {
        "id": "vkdPxFHRIuFC"
      },
      "execution_count": 9,
      "outputs": []
    },
    {
      "cell_type": "code",
      "source": [
        "print('total training cat images:', num_cats_tr)\n",
        "print('total training dog images:', num_dogs_tr)\n",
        "\n",
        "print('total validation cat images:', num_cats_val)\n",
        "print('total validation dog images:', num_dogs_val)\n",
        "print(\"--\")\n",
        "print(\"Total training images:\", total_train)\n",
        "print(\"Total validation images:\", total_val)"
      ],
      "metadata": {
        "colab": {
          "base_uri": "https://localhost:8080/"
        },
        "id": "ZP8CofjvIvEs",
        "outputId": "235883ab-eed3-4d0e-aa1c-a31bcd6fd91f"
      },
      "execution_count": 10,
      "outputs": [
        {
          "output_type": "stream",
          "name": "stdout",
          "text": [
            "total training cat images: 1000\n",
            "total training dog images: 1000\n",
            "total validation cat images: 500\n",
            "total validation dog images: 500\n",
            "--\n",
            "Total training images: 2000\n",
            "Total validation images: 1000\n"
          ]
        }
      ]
    },
    {
      "cell_type": "code",
      "source": [
        "batch_size =100\n",
        "image_size = 150"
      ],
      "metadata": {
        "id": "Hak91OIHIxnv"
      },
      "execution_count": 11,
      "outputs": []
    },
    {
      "cell_type": "code",
      "source": [
        "train_image_generator = ImageDataGenerator(rescale=1./255)\n",
        "validation_image_generator = ImageDataGenerator(rescale=1./255)"
      ],
      "metadata": {
        "id": "jUezqaTWI1zB"
      },
      "execution_count": 13,
      "outputs": []
    },
    {
      "cell_type": "code",
      "source": [
        "train_image_gen = train_image_generator.flow_from_directory(batch_size=batch_size,\n",
        "                                                            directory=train_dir,\n",
        "                                                            shuffle=True,\n",
        "                                                            target_size=(image_size,image_size), #(150,150)\n",
        "                                                            class_mode='binary')\n",
        "validation_image_gen = validation_image_generator.flow_from_directory(batch_size=batch_size,\n",
        "                                                                      directory = validation_dir,\n",
        "                                                                      shuffle=False,\n",
        "                                                                      target_size = (image_size,image_size),\n",
        "                                                                      class_mode = 'binary')"
      ],
      "metadata": {
        "colab": {
          "base_uri": "https://localhost:8080/"
        },
        "id": "o3L6kWBWJMVm",
        "outputId": "c058f5a2-4296-4723-9f08-3ccf9579abc5"
      },
      "execution_count": 14,
      "outputs": [
        {
          "output_type": "stream",
          "name": "stdout",
          "text": [
            "Found 2000 images belonging to 2 classes.\n",
            "Found 1000 images belonging to 2 classes.\n"
          ]
        }
      ]
    },
    {
      "cell_type": "code",
      "source": [
        "model = tf.keras.models.Sequential([\n",
        "    tf.keras.layers.Conv2D(32, (3,3), activation='relu', input_shape=(150, 150, 3)),\n",
        "    tf.keras.layers.MaxPooling2D(2, 2),\n",
        "\n",
        "    tf.keras.layers.Conv2D(64, (3,3), activation='relu'),\n",
        "    tf.keras.layers.MaxPooling2D(2,2),\n",
        "    \n",
        "    tf.keras.layers.Conv2D(128, (3,3), activation='relu'),\n",
        "    tf.keras.layers.MaxPooling2D(2,2),\n",
        "    \n",
        "    tf.keras.layers.Conv2D(128, (3,3), activation='relu'),\n",
        "    tf.keras.layers.MaxPooling2D(2,2),\n",
        "    \n",
        "    tf.keras.layers.Flatten(),\n",
        "    tf.keras.layers.Dense(512, activation='relu'),\n",
        "    tf.keras.layers.Dense(2)\n",
        "])"
      ],
      "metadata": {
        "id": "DBiZeayrKeAe"
      },
      "execution_count": 15,
      "outputs": []
    },
    {
      "cell_type": "code",
      "source": [
        "model.compile(optimizer = 'Adam',\n",
        "              loss = tf.keras.losses.SparseCategoricalCrossentropy(from_logits=True),\n",
        "              metrics=['accuracy'])"
      ],
      "metadata": {
        "id": "qEvocaXGKo85"
      },
      "execution_count": 16,
      "outputs": []
    },
    {
      "cell_type": "code",
      "source": [
        "model.summary()"
      ],
      "metadata": {
        "colab": {
          "base_uri": "https://localhost:8080/"
        },
        "id": "j6bsp7FxK2ob",
        "outputId": "d0de6c80-c1bd-47a7-b15b-42dd3b993c2e"
      },
      "execution_count": 17,
      "outputs": [
        {
          "output_type": "stream",
          "name": "stdout",
          "text": [
            "Model: \"sequential\"\n",
            "_________________________________________________________________\n",
            " Layer (type)                Output Shape              Param #   \n",
            "=================================================================\n",
            " conv2d (Conv2D)             (None, 148, 148, 32)      896       \n",
            "                                                                 \n",
            " max_pooling2d (MaxPooling2D  (None, 74, 74, 32)       0         \n",
            " )                                                               \n",
            "                                                                 \n",
            " conv2d_1 (Conv2D)           (None, 72, 72, 64)        18496     \n",
            "                                                                 \n",
            " max_pooling2d_1 (MaxPooling  (None, 36, 36, 64)       0         \n",
            " 2D)                                                             \n",
            "                                                                 \n",
            " conv2d_2 (Conv2D)           (None, 34, 34, 128)       73856     \n",
            "                                                                 \n",
            " max_pooling2d_2 (MaxPooling  (None, 17, 17, 128)      0         \n",
            " 2D)                                                             \n",
            "                                                                 \n",
            " conv2d_3 (Conv2D)           (None, 15, 15, 128)       147584    \n",
            "                                                                 \n",
            " max_pooling2d_3 (MaxPooling  (None, 7, 7, 128)        0         \n",
            " 2D)                                                             \n",
            "                                                                 \n",
            " flatten (Flatten)           (None, 6272)              0         \n",
            "                                                                 \n",
            " dense (Dense)               (None, 512)               3211776   \n",
            "                                                                 \n",
            " dense_1 (Dense)             (None, 2)                 1026      \n",
            "                                                                 \n",
            "=================================================================\n",
            "Total params: 3,453,634\n",
            "Trainable params: 3,453,634\n",
            "Non-trainable params: 0\n",
            "_________________________________________________________________\n"
          ]
        }
      ]
    },
    {
      "cell_type": "code",
      "source": [
        "epochs = 100\n",
        "model.fit_generator(train_image_gen,\n",
        "                    epochs = epochs,\n",
        "                    steps_per_epoch = np.ceil(total_train/batch_size),\n",
        "                    validation_data=validation_image_gen,\n",
        "                    validation_steps = np.ceil(total_val/batch_size)\n",
        "                    )"
      ],
      "metadata": {
        "colab": {
          "base_uri": "https://localhost:8080/"
        },
        "id": "34ebaxwyK75c",
        "outputId": "f2d0017f-b1d7-45aa-f32b-83ea4769442f"
      },
      "execution_count": 18,
      "outputs": [
        {
          "output_type": "stream",
          "name": "stderr",
          "text": [
            "<ipython-input-18-8788a268f0ce>:2: UserWarning: `Model.fit_generator` is deprecated and will be removed in a future version. Please use `Model.fit`, which supports generators.\n",
            "  model.fit_generator(train_image_gen,\n"
          ]
        },
        {
          "output_type": "stream",
          "name": "stdout",
          "text": [
            "Epoch 1/100\n",
            "20/20 [==============================] - 17s 429ms/step - loss: 0.7133 - accuracy: 0.5110 - val_loss: 0.6927 - val_accuracy: 0.5000\n",
            "Epoch 2/100\n",
            "20/20 [==============================] - 8s 415ms/step - loss: 0.6925 - accuracy: 0.4920 - val_loss: 0.6865 - val_accuracy: 0.5620\n",
            "Epoch 3/100\n",
            "20/20 [==============================] - 8s 415ms/step - loss: 0.6814 - accuracy: 0.5785 - val_loss: 0.6752 - val_accuracy: 0.5810\n",
            "Epoch 4/100\n",
            "20/20 [==============================] - 8s 419ms/step - loss: 0.6652 - accuracy: 0.5850 - val_loss: 0.6402 - val_accuracy: 0.6050\n",
            "Epoch 5/100\n",
            "20/20 [==============================] - 8s 416ms/step - loss: 0.6474 - accuracy: 0.6120 - val_loss: 0.6346 - val_accuracy: 0.6240\n",
            "Epoch 6/100\n",
            "20/20 [==============================] - 9s 463ms/step - loss: 0.6015 - accuracy: 0.6660 - val_loss: 0.6122 - val_accuracy: 0.6590\n",
            "Epoch 7/100\n",
            "20/20 [==============================] - 8s 416ms/step - loss: 0.5487 - accuracy: 0.7175 - val_loss: 0.6603 - val_accuracy: 0.6280\n",
            "Epoch 8/100\n",
            "20/20 [==============================] - 8s 419ms/step - loss: 0.5065 - accuracy: 0.7430 - val_loss: 0.5602 - val_accuracy: 0.7310\n",
            "Epoch 9/100\n",
            "20/20 [==============================] - 8s 419ms/step - loss: 0.4555 - accuracy: 0.7870 - val_loss: 0.5532 - val_accuracy: 0.7250\n",
            "Epoch 10/100\n",
            "20/20 [==============================] - 8s 419ms/step - loss: 0.4081 - accuracy: 0.8065 - val_loss: 0.5708 - val_accuracy: 0.7170\n",
            "Epoch 11/100\n",
            "20/20 [==============================] - 8s 417ms/step - loss: 0.3744 - accuracy: 0.8280 - val_loss: 0.5826 - val_accuracy: 0.7290\n",
            "Epoch 12/100\n",
            "20/20 [==============================] - 8s 420ms/step - loss: 0.3317 - accuracy: 0.8600 - val_loss: 0.6140 - val_accuracy: 0.7220\n",
            "Epoch 13/100\n",
            "20/20 [==============================] - 8s 420ms/step - loss: 0.2951 - accuracy: 0.8750 - val_loss: 0.6455 - val_accuracy: 0.7380\n",
            "Epoch 14/100\n",
            "20/20 [==============================] - 8s 420ms/step - loss: 0.2741 - accuracy: 0.8860 - val_loss: 0.6427 - val_accuracy: 0.7210\n",
            "Epoch 15/100\n",
            "20/20 [==============================] - 8s 416ms/step - loss: 0.2371 - accuracy: 0.9085 - val_loss: 0.7462 - val_accuracy: 0.7260\n",
            "Epoch 16/100\n",
            "20/20 [==============================] - 8s 415ms/step - loss: 0.1854 - accuracy: 0.9245 - val_loss: 0.7137 - val_accuracy: 0.7270\n",
            "Epoch 17/100\n",
            "20/20 [==============================] - 8s 421ms/step - loss: 0.1138 - accuracy: 0.9590 - val_loss: 0.9062 - val_accuracy: 0.7320\n",
            "Epoch 18/100\n",
            "20/20 [==============================] - 8s 417ms/step - loss: 0.0873 - accuracy: 0.9700 - val_loss: 0.9331 - val_accuracy: 0.7430\n",
            "Epoch 19/100\n",
            "20/20 [==============================] - 8s 420ms/step - loss: 0.0653 - accuracy: 0.9770 - val_loss: 1.0785 - val_accuracy: 0.7200\n",
            "Epoch 20/100\n",
            "20/20 [==============================] - 8s 421ms/step - loss: 0.0477 - accuracy: 0.9845 - val_loss: 1.1088 - val_accuracy: 0.7390\n",
            "Epoch 21/100\n",
            "20/20 [==============================] - 8s 418ms/step - loss: 0.0344 - accuracy: 0.9915 - val_loss: 1.1926 - val_accuracy: 0.7490\n",
            "Epoch 22/100\n",
            "20/20 [==============================] - 8s 417ms/step - loss: 0.0277 - accuracy: 0.9915 - val_loss: 1.3292 - val_accuracy: 0.7220\n",
            "Epoch 23/100\n",
            "20/20 [==============================] - 8s 422ms/step - loss: 0.0254 - accuracy: 0.9915 - val_loss: 1.3987 - val_accuracy: 0.7490\n",
            "Epoch 24/100\n",
            "20/20 [==============================] - 8s 419ms/step - loss: 0.0498 - accuracy: 0.9810 - val_loss: 1.5383 - val_accuracy: 0.7300\n",
            "Epoch 25/100\n",
            "20/20 [==============================] - 8s 417ms/step - loss: 0.0587 - accuracy: 0.9820 - val_loss: 1.3240 - val_accuracy: 0.7260\n",
            "Epoch 26/100\n",
            "20/20 [==============================] - 8s 419ms/step - loss: 0.0358 - accuracy: 0.9880 - val_loss: 1.3013 - val_accuracy: 0.7330\n",
            "Epoch 27/100\n",
            "20/20 [==============================] - 8s 422ms/step - loss: 0.0128 - accuracy: 0.9970 - val_loss: 1.4797 - val_accuracy: 0.7400\n",
            "Epoch 28/100\n",
            "20/20 [==============================] - 8s 415ms/step - loss: 0.0049 - accuracy: 0.9995 - val_loss: 1.5349 - val_accuracy: 0.7430\n",
            "Epoch 29/100\n",
            "20/20 [==============================] - 9s 464ms/step - loss: 0.0018 - accuracy: 1.0000 - val_loss: 1.6027 - val_accuracy: 0.7460\n",
            "Epoch 30/100\n",
            "20/20 [==============================] - 8s 419ms/step - loss: 9.5077e-04 - accuracy: 1.0000 - val_loss: 1.6276 - val_accuracy: 0.7460\n",
            "Epoch 31/100\n",
            "20/20 [==============================] - 8s 418ms/step - loss: 5.3351e-04 - accuracy: 1.0000 - val_loss: 1.6716 - val_accuracy: 0.7490\n",
            "Epoch 32/100\n",
            "20/20 [==============================] - 8s 418ms/step - loss: 4.1054e-04 - accuracy: 1.0000 - val_loss: 1.6878 - val_accuracy: 0.7480\n",
            "Epoch 33/100\n",
            "20/20 [==============================] - 8s 420ms/step - loss: 3.3251e-04 - accuracy: 1.0000 - val_loss: 1.7125 - val_accuracy: 0.7510\n",
            "Epoch 34/100\n",
            "20/20 [==============================] - 8s 419ms/step - loss: 2.8830e-04 - accuracy: 1.0000 - val_loss: 1.7348 - val_accuracy: 0.7490\n",
            "Epoch 35/100\n",
            "20/20 [==============================] - 8s 421ms/step - loss: 2.5252e-04 - accuracy: 1.0000 - val_loss: 1.7554 - val_accuracy: 0.7500\n",
            "Epoch 36/100\n",
            "20/20 [==============================] - 8s 418ms/step - loss: 2.2680e-04 - accuracy: 1.0000 - val_loss: 1.7725 - val_accuracy: 0.7490\n",
            "Epoch 37/100\n",
            "20/20 [==============================] - 8s 417ms/step - loss: 2.0399e-04 - accuracy: 1.0000 - val_loss: 1.7917 - val_accuracy: 0.7490\n",
            "Epoch 38/100\n",
            "20/20 [==============================] - 8s 412ms/step - loss: 1.8436e-04 - accuracy: 1.0000 - val_loss: 1.8058 - val_accuracy: 0.7490\n",
            "Epoch 39/100\n",
            "20/20 [==============================] - 8s 415ms/step - loss: 1.7011e-04 - accuracy: 1.0000 - val_loss: 1.8232 - val_accuracy: 0.7490\n",
            "Epoch 40/100\n",
            "20/20 [==============================] - 8s 418ms/step - loss: 1.5724e-04 - accuracy: 1.0000 - val_loss: 1.8363 - val_accuracy: 0.7500\n",
            "Epoch 41/100\n",
            "20/20 [==============================] - 8s 421ms/step - loss: 1.4512e-04 - accuracy: 1.0000 - val_loss: 1.8496 - val_accuracy: 0.7520\n",
            "Epoch 42/100\n",
            "20/20 [==============================] - 8s 421ms/step - loss: 1.3494e-04 - accuracy: 1.0000 - val_loss: 1.8639 - val_accuracy: 0.7510\n",
            "Epoch 43/100\n",
            "20/20 [==============================] - 8s 416ms/step - loss: 1.2653e-04 - accuracy: 1.0000 - val_loss: 1.8751 - val_accuracy: 0.7510\n",
            "Epoch 44/100\n",
            "20/20 [==============================] - 8s 417ms/step - loss: 1.1805e-04 - accuracy: 1.0000 - val_loss: 1.8872 - val_accuracy: 0.7510\n",
            "Epoch 45/100\n",
            "20/20 [==============================] - 8s 415ms/step - loss: 1.1115e-04 - accuracy: 1.0000 - val_loss: 1.8970 - val_accuracy: 0.7510\n",
            "Epoch 46/100\n",
            "20/20 [==============================] - 8s 415ms/step - loss: 1.0487e-04 - accuracy: 1.0000 - val_loss: 1.9094 - val_accuracy: 0.7510\n",
            "Epoch 47/100\n",
            "20/20 [==============================] - 8s 417ms/step - loss: 9.8699e-05 - accuracy: 1.0000 - val_loss: 1.9188 - val_accuracy: 0.7520\n",
            "Epoch 48/100\n",
            "20/20 [==============================] - 8s 419ms/step - loss: 9.3220e-05 - accuracy: 1.0000 - val_loss: 1.9318 - val_accuracy: 0.7520\n",
            "Epoch 49/100\n",
            "20/20 [==============================] - 8s 415ms/step - loss: 8.8328e-05 - accuracy: 1.0000 - val_loss: 1.9396 - val_accuracy: 0.7510\n",
            "Epoch 50/100\n",
            "20/20 [==============================] - 8s 415ms/step - loss: 8.4254e-05 - accuracy: 1.0000 - val_loss: 1.9476 - val_accuracy: 0.7520\n",
            "Epoch 51/100\n",
            "20/20 [==============================] - 8s 415ms/step - loss: 8.0202e-05 - accuracy: 1.0000 - val_loss: 1.9591 - val_accuracy: 0.7520\n",
            "Epoch 52/100\n",
            "20/20 [==============================] - 9s 460ms/step - loss: 7.6343e-05 - accuracy: 1.0000 - val_loss: 1.9675 - val_accuracy: 0.7540\n",
            "Epoch 53/100\n",
            "20/20 [==============================] - 8s 418ms/step - loss: 7.2623e-05 - accuracy: 1.0000 - val_loss: 1.9768 - val_accuracy: 0.7530\n",
            "Epoch 54/100\n",
            "20/20 [==============================] - 8s 413ms/step - loss: 6.9232e-05 - accuracy: 1.0000 - val_loss: 1.9843 - val_accuracy: 0.7530\n",
            "Epoch 55/100\n",
            "20/20 [==============================] - 8s 418ms/step - loss: 6.6306e-05 - accuracy: 1.0000 - val_loss: 1.9934 - val_accuracy: 0.7530\n",
            "Epoch 56/100\n",
            "20/20 [==============================] - 8s 418ms/step - loss: 6.3311e-05 - accuracy: 1.0000 - val_loss: 2.0019 - val_accuracy: 0.7530\n",
            "Epoch 57/100\n",
            "20/20 [==============================] - 8s 417ms/step - loss: 6.0823e-05 - accuracy: 1.0000 - val_loss: 2.0093 - val_accuracy: 0.7530\n",
            "Epoch 58/100\n",
            "20/20 [==============================] - 8s 415ms/step - loss: 5.8344e-05 - accuracy: 1.0000 - val_loss: 2.0180 - val_accuracy: 0.7520\n",
            "Epoch 59/100\n",
            "20/20 [==============================] - 8s 416ms/step - loss: 5.5940e-05 - accuracy: 1.0000 - val_loss: 2.0258 - val_accuracy: 0.7520\n",
            "Epoch 60/100\n",
            "20/20 [==============================] - 8s 417ms/step - loss: 5.3802e-05 - accuracy: 1.0000 - val_loss: 2.0315 - val_accuracy: 0.7530\n",
            "Epoch 61/100\n",
            "20/20 [==============================] - 8s 413ms/step - loss: 5.1808e-05 - accuracy: 1.0000 - val_loss: 2.0412 - val_accuracy: 0.7520\n",
            "Epoch 62/100\n",
            "20/20 [==============================] - 8s 413ms/step - loss: 4.9667e-05 - accuracy: 1.0000 - val_loss: 2.0471 - val_accuracy: 0.7520\n",
            "Epoch 63/100\n",
            "20/20 [==============================] - 8s 416ms/step - loss: 4.7879e-05 - accuracy: 1.0000 - val_loss: 2.0539 - val_accuracy: 0.7520\n",
            "Epoch 64/100\n",
            "20/20 [==============================] - 8s 416ms/step - loss: 4.6104e-05 - accuracy: 1.0000 - val_loss: 2.0616 - val_accuracy: 0.7510\n",
            "Epoch 65/100\n",
            "20/20 [==============================] - 8s 418ms/step - loss: 4.4458e-05 - accuracy: 1.0000 - val_loss: 2.0688 - val_accuracy: 0.7510\n",
            "Epoch 66/100\n",
            "20/20 [==============================] - 8s 415ms/step - loss: 4.2829e-05 - accuracy: 1.0000 - val_loss: 2.0750 - val_accuracy: 0.7500\n",
            "Epoch 67/100\n",
            "20/20 [==============================] - 8s 414ms/step - loss: 4.1361e-05 - accuracy: 1.0000 - val_loss: 2.0823 - val_accuracy: 0.7510\n",
            "Epoch 68/100\n",
            "20/20 [==============================] - 8s 415ms/step - loss: 4.0056e-05 - accuracy: 1.0000 - val_loss: 2.0870 - val_accuracy: 0.7490\n",
            "Epoch 69/100\n",
            "20/20 [==============================] - 8s 418ms/step - loss: 3.8480e-05 - accuracy: 1.0000 - val_loss: 2.0950 - val_accuracy: 0.7500\n",
            "Epoch 70/100\n",
            "20/20 [==============================] - 8s 415ms/step - loss: 3.7134e-05 - accuracy: 1.0000 - val_loss: 2.1025 - val_accuracy: 0.7520\n",
            "Epoch 71/100\n",
            "20/20 [==============================] - 8s 417ms/step - loss: 3.6025e-05 - accuracy: 1.0000 - val_loss: 2.1070 - val_accuracy: 0.7500\n",
            "Epoch 72/100\n",
            "20/20 [==============================] - 8s 419ms/step - loss: 3.4760e-05 - accuracy: 1.0000 - val_loss: 2.1147 - val_accuracy: 0.7510\n",
            "Epoch 73/100\n",
            "20/20 [==============================] - 8s 415ms/step - loss: 3.3695e-05 - accuracy: 1.0000 - val_loss: 2.1203 - val_accuracy: 0.7510\n",
            "Epoch 74/100\n",
            "20/20 [==============================] - 8s 410ms/step - loss: 3.2584e-05 - accuracy: 1.0000 - val_loss: 2.1260 - val_accuracy: 0.7510\n",
            "Epoch 75/100\n",
            "20/20 [==============================] - 9s 457ms/step - loss: 3.1483e-05 - accuracy: 1.0000 - val_loss: 2.1320 - val_accuracy: 0.7520\n",
            "Epoch 76/100\n",
            "20/20 [==============================] - 8s 418ms/step - loss: 3.0554e-05 - accuracy: 1.0000 - val_loss: 2.1377 - val_accuracy: 0.7520\n",
            "Epoch 77/100\n",
            "20/20 [==============================] - 8s 423ms/step - loss: 2.9784e-05 - accuracy: 1.0000 - val_loss: 2.1437 - val_accuracy: 0.7520\n",
            "Epoch 78/100\n",
            "20/20 [==============================] - 8s 415ms/step - loss: 2.8715e-05 - accuracy: 1.0000 - val_loss: 2.1501 - val_accuracy: 0.7520\n",
            "Epoch 79/100\n",
            "20/20 [==============================] - 8s 412ms/step - loss: 2.7789e-05 - accuracy: 1.0000 - val_loss: 2.1542 - val_accuracy: 0.7520\n",
            "Epoch 80/100\n",
            "20/20 [==============================] - 8s 421ms/step - loss: 2.6953e-05 - accuracy: 1.0000 - val_loss: 2.1606 - val_accuracy: 0.7520\n",
            "Epoch 81/100\n",
            "20/20 [==============================] - 8s 419ms/step - loss: 2.6186e-05 - accuracy: 1.0000 - val_loss: 2.1656 - val_accuracy: 0.7520\n",
            "Epoch 82/100\n",
            "20/20 [==============================] - 8s 418ms/step - loss: 2.5443e-05 - accuracy: 1.0000 - val_loss: 2.1700 - val_accuracy: 0.7520\n",
            "Epoch 83/100\n",
            "20/20 [==============================] - 8s 418ms/step - loss: 2.4678e-05 - accuracy: 1.0000 - val_loss: 2.1761 - val_accuracy: 0.7520\n",
            "Epoch 84/100\n",
            "20/20 [==============================] - 8s 419ms/step - loss: 2.3994e-05 - accuracy: 1.0000 - val_loss: 2.1805 - val_accuracy: 0.7510\n",
            "Epoch 85/100\n",
            "20/20 [==============================] - 8s 416ms/step - loss: 2.3341e-05 - accuracy: 1.0000 - val_loss: 2.1871 - val_accuracy: 0.7520\n",
            "Epoch 86/100\n",
            "20/20 [==============================] - 8s 418ms/step - loss: 2.2687e-05 - accuracy: 1.0000 - val_loss: 2.1914 - val_accuracy: 0.7510\n",
            "Epoch 87/100\n",
            "20/20 [==============================] - 8s 419ms/step - loss: 2.2028e-05 - accuracy: 1.0000 - val_loss: 2.1963 - val_accuracy: 0.7510\n",
            "Epoch 88/100\n",
            "20/20 [==============================] - 8s 412ms/step - loss: 2.1469e-05 - accuracy: 1.0000 - val_loss: 2.2011 - val_accuracy: 0.7510\n",
            "Epoch 89/100\n",
            "20/20 [==============================] - 8s 416ms/step - loss: 2.0873e-05 - accuracy: 1.0000 - val_loss: 2.2059 - val_accuracy: 0.7510\n",
            "Epoch 90/100\n",
            "20/20 [==============================] - 8s 418ms/step - loss: 2.0297e-05 - accuracy: 1.0000 - val_loss: 2.2108 - val_accuracy: 0.7510\n",
            "Epoch 91/100\n",
            "20/20 [==============================] - 8s 418ms/step - loss: 1.9748e-05 - accuracy: 1.0000 - val_loss: 2.2167 - val_accuracy: 0.7510\n",
            "Epoch 92/100\n",
            "20/20 [==============================] - 8s 421ms/step - loss: 1.9282e-05 - accuracy: 1.0000 - val_loss: 2.2205 - val_accuracy: 0.7510\n",
            "Epoch 93/100\n",
            "20/20 [==============================] - 8s 417ms/step - loss: 1.8733e-05 - accuracy: 1.0000 - val_loss: 2.2264 - val_accuracy: 0.7510\n",
            "Epoch 94/100\n",
            "20/20 [==============================] - 8s 416ms/step - loss: 1.8266e-05 - accuracy: 1.0000 - val_loss: 2.2299 - val_accuracy: 0.7510\n",
            "Epoch 95/100\n",
            "20/20 [==============================] - 8s 418ms/step - loss: 1.7762e-05 - accuracy: 1.0000 - val_loss: 2.2351 - val_accuracy: 0.7520\n",
            "Epoch 96/100\n",
            "20/20 [==============================] - 8s 415ms/step - loss: 1.7353e-05 - accuracy: 1.0000 - val_loss: 2.2387 - val_accuracy: 0.7510\n",
            "Epoch 97/100\n",
            "20/20 [==============================] - 8s 413ms/step - loss: 1.6862e-05 - accuracy: 1.0000 - val_loss: 2.2447 - val_accuracy: 0.7520\n",
            "Epoch 98/100\n",
            "20/20 [==============================] - 8s 422ms/step - loss: 1.6457e-05 - accuracy: 1.0000 - val_loss: 2.2487 - val_accuracy: 0.7520\n",
            "Epoch 99/100\n",
            "20/20 [==============================] - 8s 415ms/step - loss: 1.6045e-05 - accuracy: 1.0000 - val_loss: 2.2515 - val_accuracy: 0.7520\n",
            "Epoch 100/100\n",
            "20/20 [==============================] - 8s 415ms/step - loss: 1.5624e-05 - accuracy: 1.0000 - val_loss: 2.2573 - val_accuracy: 0.7510\n"
          ]
        },
        {
          "output_type": "execute_result",
          "data": {
            "text/plain": [
              "<keras.callbacks.History at 0x7ff4c8138a90>"
            ]
          },
          "metadata": {},
          "execution_count": 18
        }
      ]
    }
  ]
}