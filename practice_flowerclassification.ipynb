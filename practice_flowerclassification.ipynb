{
  "nbformat": 4,
  "nbformat_minor": 0,
  "metadata": {
    "colab": {
      "provenance": [],
      "authorship_tag": "ABX9TyPbmbmzpPuX94YNku9j4G59"
    },
    "kernelspec": {
      "name": "python3",
      "display_name": "Python 3"
    },
    "language_info": {
      "name": "python"
    },
    "accelerator": "GPU",
    "gpuClass": "standard"
  },
  "cells": [
    {
      "cell_type": "code",
      "execution_count": 1,
      "metadata": {
        "id": "Z3pwAdhxgCi4"
      },
      "outputs": [],
      "source": [
        "import tensorflow as tf\n",
        "import numpy as np\n",
        "import matplotlib.pyplot as plt\n",
        "import os\n",
        "import math\n",
        "import glob\n",
        "import shutil\n",
        "from tensorflow.keras.preprocessing.image import ImageDataGenerator"
      ]
    },
    {
      "cell_type": "code",
      "source": [
        "_URL = \"https://storage.googleapis.com/download.tensorflow.org/example_images/flower_photos.tgz\"\n",
        "zip_dir = tf.keras.utils.get_file(origin=_URL,\n",
        "                                  fname = 'flower_photos.tgz',\n",
        "                                  extract = True)\n",
        "base_dir = os.path.join(os.path.dirname(zip_dir), 'flower_photos')"
      ],
      "metadata": {
        "id": "Cu6c85kCg9u1"
      },
      "execution_count": 2,
      "outputs": []
    },
    {
      "cell_type": "code",
      "source": [
        "classes = ['roses', 'daisy', 'dandelion', 'sunflowers', 'tulips']"
      ],
      "metadata": {
        "id": "4ewnw6XMhoen"
      },
      "execution_count": 3,
      "outputs": []
    },
    {
      "cell_type": "code",
      "source": [
        "for cl in classes:\n",
        "    img_path = os.path.join(base_dir, cl)\n",
        "    images = glob.glob(img_path+'/*.jpg')\n",
        "    print('{}:{} images'.format(cl, len(images)))\n",
        "    train, val = images[:round(len(images)*0.8)], images[round(len(images)*0.8):]\n",
        "    \n",
        "\n",
        "    for t in train:\n",
        "      if not os.path.exists(os.path.join(base_dir, 'tra', cl)):\n",
        "          os.makedirs(os.path.join(base_dir, 'tra', cl))\n",
        "      shutil.move(t, os.path.join(base_dir, 'tra', cl))\n",
        "\n",
        "    for v in val:\n",
        "      if not os.path.exists(os.path.join(base_dir, 'vali', cl)):\n",
        "          os.makedirs(os.path.join(base_dir, 'vali', cl))\n",
        "      shutil.move(v, os.path.join(base_dir, 'vali', cl))"
      ],
      "metadata": {
        "colab": {
          "base_uri": "https://localhost:8080/"
        },
        "id": "HpbAXS_7hsnz",
        "outputId": "280c3713-431c-460e-e1d0-da7568102ced"
      },
      "execution_count": 6,
      "outputs": [
        {
          "output_type": "stream",
          "name": "stdout",
          "text": [
            "roses:128 images\n",
            "daisy:633 images\n",
            "dandelion:898 images\n",
            "sunflowers:699 images\n",
            "tulips:799 images\n"
          ]
        }
      ]
    },
    {
      "cell_type": "code",
      "source": [
        "train_dir = os.path.join(base_dir, 'tra')\n",
        "val_dir = os.path.join(base_dir, 'vali')"
      ],
      "metadata": {
        "id": "gnxTtoAJmhmc"
      },
      "execution_count": 7,
      "outputs": []
    },
    {
      "cell_type": "code",
      "source": [
        "batch_size = 100\n",
        "image_size = 150"
      ],
      "metadata": {
        "id": "RZ8qQ2i8mmi-"
      },
      "execution_count": 8,
      "outputs": []
    },
    {
      "cell_type": "code",
      "source": [
        "train_image_generator = ImageDataGenerator(rescale=1./255,\n",
        "                                           rotation_range = 45,\n",
        "                                           width_shift_range=0.15,\n",
        "                                           height_shift_range = 0.15,\n",
        "                                           zoom_range = 0.5,\n",
        "                                           fill_mode='nearest',\n",
        "                                           horizontal_flip = True)\n",
        "\n",
        "val_image_generator = ImageDataGenerator(rescale=1./255)\n"
      ],
      "metadata": {
        "id": "OhWf1HwKmvyE"
      },
      "execution_count": 9,
      "outputs": []
    },
    {
      "cell_type": "code",
      "source": [
        "train_gen = train_image_generator.flow_from_directory(batch_size=batch_size,\n",
        "                                                          shuffle = True,\n",
        "                                                          target_size=(image_size, image_size),\n",
        "                                                          directory = train_dir,\n",
        "                                                          class_mode = 'sparse')\n",
        "\n",
        "val_gen = val_image_generator.flow_from_directory(batch_size=batch_size,\n",
        "                                                      shuffle = False,\n",
        "                                                      target_size=(image_size, image_size),\n",
        "                                                      directory = val_dir,\n",
        "                                                      class_mode = 'sparse')"
      ],
      "metadata": {
        "colab": {
          "base_uri": "https://localhost:8080/"
        },
        "id": "ix8wsG_CnuCx",
        "outputId": "099fcdb6-1cae-45d3-bf36-eba379e97e16"
      },
      "execution_count": 10,
      "outputs": [
        {
          "output_type": "stream",
          "name": "stdout",
          "text": [
            "Found 3037 images belonging to 5 classes.\n",
            "Found 633 images belonging to 5 classes.\n"
          ]
        }
      ]
    },
    {
      "cell_type": "code",
      "source": [
        "model=tf.keras.Sequential([\n",
        "    tf.keras.layers.Conv2D(16,(3,3), padding='same',activation = 'relu', input_shape = (150,150,3)),\n",
        "    tf.keras.layers.MaxPooling2D(2,2),\n",
        "    tf.keras.layers.Conv2D(32,(3,3), padding='same', activation = 'relu'),\n",
        "    tf.keras.layers.MaxPooling2D(2,2),\n",
        "    tf.keras.layers.Conv2D(64,(3,3), padding='same', activation='relu'),\n",
        "    tf.keras.layers.MaxPooling2D(2,2),\n",
        "    tf.keras.layers.Dropout(0.2),\n",
        "\n",
        "    tf.keras.layers.Flatten(),\n",
        "    tf.keras.layers.Dense(512, activation='relu'),\n",
        "    tf.keras.layers.Dense(5, activation='softmax')\n",
        "])"
      ],
      "metadata": {
        "id": "tJOz_1IYomhQ"
      },
      "execution_count": 11,
      "outputs": []
    },
    {
      "cell_type": "code",
      "source": [
        "model.compile(optimizer='Adam',\n",
        "              loss = tf.keras.losses.SparseCategoricalCrossentropy(from_logits=True),\n",
        "              metrics=['accuracy'])"
      ],
      "metadata": {
        "id": "cYtdWJwDqXwR"
      },
      "execution_count": 12,
      "outputs": []
    },
    {
      "cell_type": "code",
      "source": [
        "epochs = 80\n",
        "history = model.fit_generator (train_gen,\n",
        "                              epochs = epochs,\n",
        "                              steps_per_epoch = np.ceil(train_gen.n/batch_size),\n",
        "                              validation_data = val_gen,\n",
        "                              validation_steps = np.ceil(val_gen.n/batch_size))"
      ],
      "metadata": {
        "colab": {
          "base_uri": "https://localhost:8080/"
        },
        "id": "cZyhtYo8qmVk",
        "outputId": "085a9e71-840f-4808-eeca-44870df610fe"
      },
      "execution_count": 14,
      "outputs": [
        {
          "output_type": "stream",
          "name": "stderr",
          "text": [
            "<ipython-input-14-80edcd2e79ea>:2: UserWarning: `Model.fit_generator` is deprecated and will be removed in a future version. Please use `Model.fit`, which supports generators.\n",
            "  history = model.fit_generator (train_gen,\n"
          ]
        },
        {
          "output_type": "stream",
          "name": "stdout",
          "text": [
            "Epoch 1/80\n"
          ]
        },
        {
          "output_type": "stream",
          "name": "stderr",
          "text": [
            "/usr/local/lib/python3.8/dist-packages/tensorflow/python/util/dispatch.py:1082: UserWarning: \"`sparse_categorical_crossentropy` received `from_logits=True`, but the `output` argument was produced by a sigmoid or softmax activation and thus does not represent logits. Was this intended?\"\n",
            "  return dispatch_target(*args, **kwargs)\n"
          ]
        },
        {
          "output_type": "stream",
          "name": "stdout",
          "text": [
            "31/31 [==============================] - 103s 3s/step - loss: 1.5530 - accuracy: 0.3224 - val_loss: 1.2990 - val_accuracy: 0.4250\n",
            "Epoch 2/80\n",
            "31/31 [==============================] - 96s 3s/step - loss: 1.1942 - accuracy: 0.4867 - val_loss: 1.0843 - val_accuracy: 0.5972\n",
            "Epoch 3/80\n",
            "31/31 [==============================] - 97s 3s/step - loss: 1.0786 - accuracy: 0.5634 - val_loss: 1.1916 - val_accuracy: 0.5703\n",
            "Epoch 4/80\n",
            "31/31 [==============================] - 98s 3s/step - loss: 1.0198 - accuracy: 0.5868 - val_loss: 0.8963 - val_accuracy: 0.6667\n",
            "Epoch 5/80\n",
            "31/31 [==============================] - 96s 3s/step - loss: 0.9827 - accuracy: 0.6085 - val_loss: 0.9463 - val_accuracy: 0.6445\n",
            "Epoch 6/80\n",
            "31/31 [==============================] - 96s 3s/step - loss: 0.9456 - accuracy: 0.6276 - val_loss: 0.8093 - val_accuracy: 0.6983\n",
            "Epoch 7/80\n",
            "31/31 [==============================] - 96s 3s/step - loss: 0.9065 - accuracy: 0.6490 - val_loss: 0.8628 - val_accuracy: 0.6524\n",
            "Epoch 8/80\n",
            "31/31 [==============================] - 98s 3s/step - loss: 0.8782 - accuracy: 0.6635 - val_loss: 0.8108 - val_accuracy: 0.7141\n",
            "Epoch 9/80\n",
            "31/31 [==============================] - 96s 3s/step - loss: 0.8434 - accuracy: 0.6743 - val_loss: 0.8188 - val_accuracy: 0.6872\n",
            "Epoch 10/80\n",
            "31/31 [==============================] - 96s 3s/step - loss: 0.8186 - accuracy: 0.6829 - val_loss: 0.9193 - val_accuracy: 0.6556\n",
            "Epoch 11/80\n",
            "31/31 [==============================] - 96s 3s/step - loss: 0.8114 - accuracy: 0.6846 - val_loss: 0.8095 - val_accuracy: 0.7030\n",
            "Epoch 12/80\n",
            "31/31 [==============================] - 96s 3s/step - loss: 0.8052 - accuracy: 0.6934 - val_loss: 0.7302 - val_accuracy: 0.7156\n",
            "Epoch 13/80\n",
            "31/31 [==============================] - 96s 3s/step - loss: 0.7822 - accuracy: 0.6964 - val_loss: 0.8160 - val_accuracy: 0.6935\n",
            "Epoch 14/80\n",
            "31/31 [==============================] - 96s 3s/step - loss: 0.7631 - accuracy: 0.6977 - val_loss: 0.7300 - val_accuracy: 0.7125\n",
            "Epoch 15/80\n",
            "31/31 [==============================] - 97s 3s/step - loss: 0.7578 - accuracy: 0.7116 - val_loss: 0.6954 - val_accuracy: 0.7457\n",
            "Epoch 16/80\n",
            "31/31 [==============================] - 97s 3s/step - loss: 0.7380 - accuracy: 0.7053 - val_loss: 0.7276 - val_accuracy: 0.7488\n",
            "Epoch 17/80\n",
            "31/31 [==============================] - 96s 3s/step - loss: 0.6944 - accuracy: 0.7274 - val_loss: 0.6665 - val_accuracy: 0.7615\n",
            "Epoch 18/80\n",
            "31/31 [==============================] - 98s 3s/step - loss: 0.6986 - accuracy: 0.7277 - val_loss: 0.6598 - val_accuracy: 0.7599\n",
            "Epoch 19/80\n",
            "31/31 [==============================] - 97s 3s/step - loss: 0.6758 - accuracy: 0.7300 - val_loss: 0.6357 - val_accuracy: 0.7678\n",
            "Epoch 20/80\n",
            "31/31 [==============================] - 97s 3s/step - loss: 0.6924 - accuracy: 0.7310 - val_loss: 0.6539 - val_accuracy: 0.7583\n",
            "Epoch 21/80\n",
            "31/31 [==============================] - 97s 3s/step - loss: 0.6577 - accuracy: 0.7363 - val_loss: 0.7037 - val_accuracy: 0.7283\n",
            "Epoch 22/80\n",
            "31/31 [==============================] - 98s 3s/step - loss: 0.6574 - accuracy: 0.7468 - val_loss: 0.6758 - val_accuracy: 0.7488\n",
            "Epoch 23/80\n",
            "31/31 [==============================] - 97s 3s/step - loss: 0.6576 - accuracy: 0.7501 - val_loss: 0.7127 - val_accuracy: 0.7567\n",
            "Epoch 24/80\n",
            "31/31 [==============================] - 97s 3s/step - loss: 0.6485 - accuracy: 0.7458 - val_loss: 0.6744 - val_accuracy: 0.7472\n",
            "Epoch 25/80\n",
            "31/31 [==============================] - 98s 3s/step - loss: 0.6465 - accuracy: 0.7448 - val_loss: 0.7014 - val_accuracy: 0.7362\n",
            "Epoch 26/80\n",
            "31/31 [==============================] - 99s 3s/step - loss: 0.6330 - accuracy: 0.7498 - val_loss: 0.7461 - val_accuracy: 0.7362\n",
            "Epoch 27/80\n",
            "31/31 [==============================] - 97s 3s/step - loss: 0.6318 - accuracy: 0.7560 - val_loss: 0.6897 - val_accuracy: 0.7457\n",
            "Epoch 28/80\n",
            "31/31 [==============================] - 99s 3s/step - loss: 0.6052 - accuracy: 0.7682 - val_loss: 0.7120 - val_accuracy: 0.7504\n",
            "Epoch 29/80\n",
            "31/31 [==============================] - 100s 3s/step - loss: 0.6023 - accuracy: 0.7672 - val_loss: 0.6542 - val_accuracy: 0.7630\n",
            "Epoch 30/80\n",
            "31/31 [==============================] - 97s 3s/step - loss: 0.6161 - accuracy: 0.7662 - val_loss: 0.6553 - val_accuracy: 0.7504\n",
            "Epoch 31/80\n",
            "31/31 [==============================] - 98s 3s/step - loss: 0.5788 - accuracy: 0.7738 - val_loss: 0.6073 - val_accuracy: 0.7788\n",
            "Epoch 32/80\n",
            "31/31 [==============================] - 99s 3s/step - loss: 0.5746 - accuracy: 0.7784 - val_loss: 0.5679 - val_accuracy: 0.7867\n",
            "Epoch 33/80\n",
            "31/31 [==============================] - 98s 3s/step - loss: 0.5788 - accuracy: 0.7738 - val_loss: 0.5537 - val_accuracy: 0.7994\n",
            "Epoch 34/80\n",
            "31/31 [==============================] - 98s 3s/step - loss: 0.5666 - accuracy: 0.7847 - val_loss: 0.6100 - val_accuracy: 0.7662\n",
            "Epoch 35/80\n",
            "31/31 [==============================] - 98s 3s/step - loss: 0.5630 - accuracy: 0.7787 - val_loss: 0.7091 - val_accuracy: 0.7536\n",
            "Epoch 36/80\n",
            "31/31 [==============================] - 99s 3s/step - loss: 0.5731 - accuracy: 0.7797 - val_loss: 0.7245 - val_accuracy: 0.7583\n",
            "Epoch 37/80\n",
            "31/31 [==============================] - 98s 3s/step - loss: 0.5434 - accuracy: 0.7929 - val_loss: 0.6171 - val_accuracy: 0.7852\n",
            "Epoch 38/80\n",
            "31/31 [==============================] - 101s 3s/step - loss: 0.5464 - accuracy: 0.7955 - val_loss: 0.6014 - val_accuracy: 0.7899\n",
            "Epoch 39/80\n",
            "31/31 [==============================] - 100s 3s/step - loss: 0.5462 - accuracy: 0.7863 - val_loss: 0.6263 - val_accuracy: 0.7820\n",
            "Epoch 40/80\n",
            "31/31 [==============================] - 97s 3s/step - loss: 0.5246 - accuracy: 0.7949 - val_loss: 0.5805 - val_accuracy: 0.8073\n",
            "Epoch 41/80\n",
            "31/31 [==============================] - 96s 3s/step - loss: 0.5218 - accuracy: 0.8028 - val_loss: 0.6602 - val_accuracy: 0.7630\n",
            "Epoch 42/80\n",
            "31/31 [==============================] - 97s 3s/step - loss: 0.5091 - accuracy: 0.7988 - val_loss: 0.6500 - val_accuracy: 0.7662\n",
            "Epoch 43/80\n",
            "31/31 [==============================] - 96s 3s/step - loss: 0.5384 - accuracy: 0.7959 - val_loss: 0.5696 - val_accuracy: 0.7820\n",
            "Epoch 44/80\n",
            "31/31 [==============================] - 98s 3s/step - loss: 0.5175 - accuracy: 0.8001 - val_loss: 0.5588 - val_accuracy: 0.7978\n",
            "Epoch 45/80\n",
            "31/31 [==============================] - 96s 3s/step - loss: 0.5235 - accuracy: 0.8031 - val_loss: 0.7333 - val_accuracy: 0.7362\n",
            "Epoch 46/80\n",
            "31/31 [==============================] - 98s 3s/step - loss: 0.5006 - accuracy: 0.8117 - val_loss: 0.6002 - val_accuracy: 0.7820\n",
            "Epoch 47/80\n",
            "31/31 [==============================] - 99s 3s/step - loss: 0.4915 - accuracy: 0.8047 - val_loss: 0.6856 - val_accuracy: 0.7488\n",
            "Epoch 48/80\n",
            "31/31 [==============================] - 98s 3s/step - loss: 0.4913 - accuracy: 0.8117 - val_loss: 0.7040 - val_accuracy: 0.7599\n",
            "Epoch 49/80\n",
            "31/31 [==============================] - 96s 3s/step - loss: 0.4779 - accuracy: 0.8196 - val_loss: 0.6725 - val_accuracy: 0.7725\n",
            "Epoch 50/80\n",
            "31/31 [==============================] - 98s 3s/step - loss: 0.4977 - accuracy: 0.8054 - val_loss: 0.6839 - val_accuracy: 0.7504\n",
            "Epoch 51/80\n",
            "31/31 [==============================] - 97s 3s/step - loss: 0.4866 - accuracy: 0.8140 - val_loss: 0.6560 - val_accuracy: 0.7615\n",
            "Epoch 52/80\n",
            "31/31 [==============================] - 96s 3s/step - loss: 0.4806 - accuracy: 0.8179 - val_loss: 0.6809 - val_accuracy: 0.7694\n",
            "Epoch 53/80\n",
            "31/31 [==============================] - 98s 3s/step - loss: 0.4685 - accuracy: 0.8229 - val_loss: 0.7067 - val_accuracy: 0.7583\n",
            "Epoch 54/80\n",
            "31/31 [==============================] - 96s 3s/step - loss: 0.4540 - accuracy: 0.8268 - val_loss: 0.6839 - val_accuracy: 0.7694\n",
            "Epoch 55/80\n",
            "31/31 [==============================] - 98s 3s/step - loss: 0.4635 - accuracy: 0.8284 - val_loss: 0.6134 - val_accuracy: 0.7757\n",
            "Epoch 56/80\n",
            "31/31 [==============================] - 97s 3s/step - loss: 0.4458 - accuracy: 0.8258 - val_loss: 0.6723 - val_accuracy: 0.7615\n",
            "Epoch 57/80\n",
            "31/31 [==============================] - 96s 3s/step - loss: 0.4529 - accuracy: 0.8245 - val_loss: 0.6265 - val_accuracy: 0.7915\n",
            "Epoch 58/80\n",
            "31/31 [==============================] - 98s 3s/step - loss: 0.4257 - accuracy: 0.8311 - val_loss: 0.6011 - val_accuracy: 0.7915\n",
            "Epoch 59/80\n",
            "31/31 [==============================] - 98s 3s/step - loss: 0.4249 - accuracy: 0.8390 - val_loss: 0.5685 - val_accuracy: 0.8088\n",
            "Epoch 60/80\n",
            "31/31 [==============================] - 96s 3s/step - loss: 0.4327 - accuracy: 0.8334 - val_loss: 0.6188 - val_accuracy: 0.7804\n",
            "Epoch 61/80\n",
            "31/31 [==============================] - 98s 3s/step - loss: 0.4220 - accuracy: 0.8393 - val_loss: 0.6420 - val_accuracy: 0.7836\n",
            "Epoch 62/80\n",
            "31/31 [==============================] - 98s 3s/step - loss: 0.4038 - accuracy: 0.8462 - val_loss: 0.6318 - val_accuracy: 0.7773\n",
            "Epoch 63/80\n",
            "31/31 [==============================] - 96s 3s/step - loss: 0.4309 - accuracy: 0.8337 - val_loss: 0.6566 - val_accuracy: 0.7773\n",
            "Epoch 64/80\n",
            "31/31 [==============================] - 99s 3s/step - loss: 0.4165 - accuracy: 0.8390 - val_loss: 0.7216 - val_accuracy: 0.7725\n",
            "Epoch 65/80\n",
            "31/31 [==============================] - 97s 3s/step - loss: 0.4031 - accuracy: 0.8439 - val_loss: 0.6063 - val_accuracy: 0.7946\n",
            "Epoch 66/80\n",
            "31/31 [==============================] - 97s 3s/step - loss: 0.3932 - accuracy: 0.8472 - val_loss: 0.5888 - val_accuracy: 0.7820\n",
            "Epoch 67/80\n",
            "31/31 [==============================] - 99s 3s/step - loss: 0.3953 - accuracy: 0.8452 - val_loss: 0.6074 - val_accuracy: 0.8025\n",
            "Epoch 68/80\n",
            "31/31 [==============================] - 99s 3s/step - loss: 0.3697 - accuracy: 0.8680 - val_loss: 0.6965 - val_accuracy: 0.7741\n",
            "Epoch 69/80\n",
            "31/31 [==============================] - 98s 3s/step - loss: 0.3996 - accuracy: 0.8449 - val_loss: 0.6202 - val_accuracy: 0.7852\n",
            "Epoch 70/80\n",
            "31/31 [==============================] - 100s 3s/step - loss: 0.3725 - accuracy: 0.8597 - val_loss: 0.7691 - val_accuracy: 0.7630\n",
            "Epoch 71/80\n",
            "31/31 [==============================] - 100s 3s/step - loss: 0.3449 - accuracy: 0.8634 - val_loss: 0.7722 - val_accuracy: 0.7788\n",
            "Epoch 72/80\n",
            "31/31 [==============================] - 98s 3s/step - loss: 0.3812 - accuracy: 0.8538 - val_loss: 0.6913 - val_accuracy: 0.7852\n",
            "Epoch 73/80\n",
            "31/31 [==============================] - 100s 3s/step - loss: 0.3668 - accuracy: 0.8604 - val_loss: 0.6643 - val_accuracy: 0.7883\n",
            "Epoch 74/80\n",
            "31/31 [==============================] - 97s 3s/step - loss: 0.3841 - accuracy: 0.8548 - val_loss: 0.7177 - val_accuracy: 0.7678\n",
            "Epoch 75/80\n",
            "31/31 [==============================] - 97s 3s/step - loss: 0.3995 - accuracy: 0.8551 - val_loss: 0.5848 - val_accuracy: 0.7946\n",
            "Epoch 76/80\n",
            "31/31 [==============================] - 98s 3s/step - loss: 0.3751 - accuracy: 0.8541 - val_loss: 0.6827 - val_accuracy: 0.7788\n",
            "Epoch 77/80\n",
            "31/31 [==============================] - 98s 3s/step - loss: 0.3614 - accuracy: 0.8614 - val_loss: 0.6497 - val_accuracy: 0.7978\n",
            "Epoch 78/80\n",
            "31/31 [==============================] - 97s 3s/step - loss: 0.3162 - accuracy: 0.8811 - val_loss: 0.8333 - val_accuracy: 0.7757\n",
            "Epoch 79/80\n",
            "31/31 [==============================] - 100s 3s/step - loss: 0.3584 - accuracy: 0.8657 - val_loss: 0.7783 - val_accuracy: 0.7583\n",
            "Epoch 80/80\n",
            "31/31 [==============================] - 99s 3s/step - loss: 0.3486 - accuracy: 0.8657 - val_loss: 0.6770 - val_accuracy: 0.7915\n"
          ]
        }
      ]
    }
  ]
}